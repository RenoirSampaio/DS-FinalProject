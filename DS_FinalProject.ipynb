{
 "cells": [
  {
   "cell_type": "markdown",
   "metadata": {
    "id": "view-in-github"
   },
   "source": [
    "<a href=\"https://colab.research.google.com/github/RenoirSampaio/DS-FinalProject/blob/master/DS_FinalProject.ipynb\" target=\"_parent\"><img src=\"https://colab.research.google.com/assets/colab-badge.svg\" alt=\"Open In Colab\"/></a>"
   ]
  },
  {
   "cell_type": "markdown",
   "metadata": {
    "id": "d-HsIbn8Vhb4"
   },
   "source": [
    "\n",
    "\n",
    "<img src='https://raw.githubusercontent.com/RenoirSampaio/DS-FinalProject/master/brasao.png' height='80px' width='250px'/>\n",
    "\n",
    "<p style='text-align:center;'>Campus de Sobral</p>\n",
    "\n",
    "<p style='text-align:center;'>Curso de Engenharia da Computação</p>\n",
    "\n",
    "<p style='text-align:center;'>Tópicos Especiais em Automação e Controle I</p>\n",
    "\n",
    "<p style='text-align:center;'>Projeto final de Ciência de Dados: Processo de Ciência de Dados</p>\n",
    "\n",
    "---\n",
    "\n",
    "\n",
    "## Equipe 1: \n",
    " - Breno Campos - 406808\n",
    " - Renoir Sampaio - 389113\n",
    " - Gerônimo Aguiar - 385145\n",
    " - Samuel Hericles - 389118\n",
    " - Sérgio Neto - 385138"
   ]
  },
  {
   "cell_type": "markdown",
   "metadata": {
    "id": "7Y74AO-oXS4c"
   },
   "source": [
    "# Etapa 1 - Exploração e Limpeza"
   ]
  },
  {
   "cell_type": "markdown",
   "metadata": {
    "id": "U5tVOgTpcMQy"
   },
   "source": [
    "# 1 - Importações necessários\n"
   ]
  },
  {
   "cell_type": "code",
   "execution_count": 1,
   "metadata": {
    "id": "jj0MUzZwWAYC"
   },
   "outputs": [],
   "source": [
    "import pandas as pd\n",
    "import numpy as np\n",
    "import matplotlib.pyplot as plt\n",
    "import seaborn as sns\n",
    "from sklearn.tree import DecisionTreeRegressor\n",
    "from sklearn.model_selection import cross_validate\n",
    "from sklearn.model_selection import KFold\n",
    "from sklearn.model_selection import GridSearchCV\n",
    "from sklearn.inspection import permutation_importance\n",
    "import warnings\n",
    "warnings.filterwarnings('ignore')\n"
   ]
  },
  {
   "cell_type": "markdown",
   "metadata": {
    "id": "fT9Fqf-jcQq7"
   },
   "source": [
    "# 2 - Importação da base de dados\n",
    "\n",
    "#### Usamos o *git lfs(Large File Storage)* para armazenar dados com mais de 25mb. Sendo assim, importamos o dataset de ocorrências do ano de 2019 que ele organizado o dados de acordo com a ocorrência fichada na prf por pessoa."
   ]
  },
  {
   "cell_type": "code",
   "execution_count": 2,
   "metadata": {
    "colab": {
     "base_uri": "https://localhost:8080/",
     "height": 566
    },
    "id": "7N_eyiz-eLSI",
    "outputId": "e53b0899-c8c0-4904-b4b6-6d2c57308ec7"
   },
   "outputs": [
    {
     "data": {
      "text/html": [
       "<div>\n",
       "<style scoped>\n",
       "    .dataframe tbody tr th:only-of-type {\n",
       "        vertical-align: middle;\n",
       "    }\n",
       "\n",
       "    .dataframe tbody tr th {\n",
       "        vertical-align: top;\n",
       "    }\n",
       "\n",
       "    .dataframe thead th {\n",
       "        text-align: right;\n",
       "    }\n",
       "</style>\n",
       "<table border=\"1\" class=\"dataframe\">\n",
       "  <thead>\n",
       "    <tr style=\"text-align: right;\">\n",
       "      <th></th>\n",
       "      <th>id</th>\n",
       "      <th>pesid</th>\n",
       "      <th>data_inversa</th>\n",
       "      <th>dia_semana</th>\n",
       "      <th>horario</th>\n",
       "      <th>uf</th>\n",
       "      <th>br</th>\n",
       "      <th>km</th>\n",
       "      <th>municipio</th>\n",
       "      <th>causa_principal</th>\n",
       "      <th>...</th>\n",
       "      <th>sexo</th>\n",
       "      <th>ilesos</th>\n",
       "      <th>feridos_leves</th>\n",
       "      <th>feridos_graves</th>\n",
       "      <th>mortos</th>\n",
       "      <th>latitude</th>\n",
       "      <th>longitude</th>\n",
       "      <th>regional</th>\n",
       "      <th>delegacia</th>\n",
       "      <th>uop</th>\n",
       "    </tr>\n",
       "  </thead>\n",
       "  <tbody>\n",
       "    <tr>\n",
       "      <th>0</th>\n",
       "      <td>182210.0</td>\n",
       "      <td>402103.0</td>\n",
       "      <td>2019-01-01</td>\n",
       "      <td>terça-feira</td>\n",
       "      <td>01:30:00</td>\n",
       "      <td>SP</td>\n",
       "      <td>116.0</td>\n",
       "      <td>218</td>\n",
       "      <td>GUARULHOS</td>\n",
       "      <td>Sim</td>\n",
       "      <td>...</td>\n",
       "      <td>Masculino</td>\n",
       "      <td>0</td>\n",
       "      <td>1</td>\n",
       "      <td>0</td>\n",
       "      <td>0</td>\n",
       "      <td>-23,46052014</td>\n",
       "      <td>-46,48772478</td>\n",
       "      <td>SR-SP</td>\n",
       "      <td>DEL6/1</td>\n",
       "      <td>UOP01/SP</td>\n",
       "    </tr>\n",
       "    <tr>\n",
       "      <th>1</th>\n",
       "      <td>182210.0</td>\n",
       "      <td>402106.0</td>\n",
       "      <td>2019-01-01</td>\n",
       "      <td>terça-feira</td>\n",
       "      <td>01:30:00</td>\n",
       "      <td>SP</td>\n",
       "      <td>116.0</td>\n",
       "      <td>218</td>\n",
       "      <td>GUARULHOS</td>\n",
       "      <td>Sim</td>\n",
       "      <td>...</td>\n",
       "      <td>Masculino</td>\n",
       "      <td>0</td>\n",
       "      <td>1</td>\n",
       "      <td>0</td>\n",
       "      <td>0</td>\n",
       "      <td>-23,46052014</td>\n",
       "      <td>-46,48772478</td>\n",
       "      <td>SR-SP</td>\n",
       "      <td>DEL6/1</td>\n",
       "      <td>UOP01/SP</td>\n",
       "    </tr>\n",
       "    <tr>\n",
       "      <th>2</th>\n",
       "      <td>182210.0</td>\n",
       "      <td>402104.0</td>\n",
       "      <td>2019-01-01</td>\n",
       "      <td>terça-feira</td>\n",
       "      <td>01:30:00</td>\n",
       "      <td>SP</td>\n",
       "      <td>116.0</td>\n",
       "      <td>218</td>\n",
       "      <td>GUARULHOS</td>\n",
       "      <td>Sim</td>\n",
       "      <td>...</td>\n",
       "      <td>Feminino</td>\n",
       "      <td>0</td>\n",
       "      <td>1</td>\n",
       "      <td>0</td>\n",
       "      <td>0</td>\n",
       "      <td>-23,46052014</td>\n",
       "      <td>-46,48772478</td>\n",
       "      <td>SR-SP</td>\n",
       "      <td>DEL6/1</td>\n",
       "      <td>UOP01/SP</td>\n",
       "    </tr>\n",
       "    <tr>\n",
       "      <th>3</th>\n",
       "      <td>182210.0</td>\n",
       "      <td>402102.0</td>\n",
       "      <td>2019-01-01</td>\n",
       "      <td>terça-feira</td>\n",
       "      <td>01:30:00</td>\n",
       "      <td>SP</td>\n",
       "      <td>116.0</td>\n",
       "      <td>218</td>\n",
       "      <td>GUARULHOS</td>\n",
       "      <td>Sim</td>\n",
       "      <td>...</td>\n",
       "      <td>Masculino</td>\n",
       "      <td>0</td>\n",
       "      <td>1</td>\n",
       "      <td>0</td>\n",
       "      <td>0</td>\n",
       "      <td>-23,46052014</td>\n",
       "      <td>-46,48772478</td>\n",
       "      <td>SR-SP</td>\n",
       "      <td>DEL6/1</td>\n",
       "      <td>UOP01/SP</td>\n",
       "    </tr>\n",
       "    <tr>\n",
       "      <th>4</th>\n",
       "      <td>182211.0</td>\n",
       "      <td>402126.0</td>\n",
       "      <td>2019-01-01</td>\n",
       "      <td>terça-feira</td>\n",
       "      <td>01:30:00</td>\n",
       "      <td>PR</td>\n",
       "      <td>373.0</td>\n",
       "      <td>177,3</td>\n",
       "      <td>PONTA GROSSA</td>\n",
       "      <td>Sim</td>\n",
       "      <td>...</td>\n",
       "      <td>Masculino</td>\n",
       "      <td>0</td>\n",
       "      <td>1</td>\n",
       "      <td>0</td>\n",
       "      <td>0</td>\n",
       "      <td>-25,05533957</td>\n",
       "      <td>-50,22776753</td>\n",
       "      <td>SR-PR</td>\n",
       "      <td>DEL7/3</td>\n",
       "      <td>UOP01/PR</td>\n",
       "    </tr>\n",
       "    <tr>\n",
       "      <th>5</th>\n",
       "      <td>182212.0</td>\n",
       "      <td>402092.0</td>\n",
       "      <td>2019-01-01</td>\n",
       "      <td>terça-feira</td>\n",
       "      <td>00:45:00</td>\n",
       "      <td>SC</td>\n",
       "      <td>101.0</td>\n",
       "      <td>16</td>\n",
       "      <td>GARUVA</td>\n",
       "      <td>Sim</td>\n",
       "      <td>...</td>\n",
       "      <td>Feminino</td>\n",
       "      <td>0</td>\n",
       "      <td>1</td>\n",
       "      <td>0</td>\n",
       "      <td>0</td>\n",
       "      <td>-26,1216</td>\n",
       "      <td>-48,8826</td>\n",
       "      <td>SR-SC</td>\n",
       "      <td>DEL8/3</td>\n",
       "      <td>UOP01/SC</td>\n",
       "    </tr>\n",
       "    <tr>\n",
       "      <th>6</th>\n",
       "      <td>182214.0</td>\n",
       "      <td>402095.0</td>\n",
       "      <td>2019-01-01</td>\n",
       "      <td>terça-feira</td>\n",
       "      <td>00:00:00</td>\n",
       "      <td>CE</td>\n",
       "      <td>20.0</td>\n",
       "      <td>429,5</td>\n",
       "      <td>FORTALEZA</td>\n",
       "      <td>Sim</td>\n",
       "      <td>...</td>\n",
       "      <td>Feminino</td>\n",
       "      <td>0</td>\n",
       "      <td>0</td>\n",
       "      <td>1</td>\n",
       "      <td>0</td>\n",
       "      <td>-3,76999</td>\n",
       "      <td>-38,670063</td>\n",
       "      <td>SR-CE</td>\n",
       "      <td>DEL16/1</td>\n",
       "      <td>UOP02/CE</td>\n",
       "    </tr>\n",
       "    <tr>\n",
       "      <th>7</th>\n",
       "      <td>182215.0</td>\n",
       "      <td>403852.0</td>\n",
       "      <td>2019-01-01</td>\n",
       "      <td>terça-feira</td>\n",
       "      <td>01:00:00</td>\n",
       "      <td>MG</td>\n",
       "      <td>381.0</td>\n",
       "      <td>327</td>\n",
       "      <td>NOVA ERA</td>\n",
       "      <td>Sim</td>\n",
       "      <td>...</td>\n",
       "      <td>Masculino</td>\n",
       "      <td>0</td>\n",
       "      <td>0</td>\n",
       "      <td>1</td>\n",
       "      <td>0</td>\n",
       "      <td>-19,7609</td>\n",
       "      <td>-43,0306</td>\n",
       "      <td>SR-MG</td>\n",
       "      <td>DEL4/3</td>\n",
       "      <td>UOP01/MG</td>\n",
       "    </tr>\n",
       "    <tr>\n",
       "      <th>8</th>\n",
       "      <td>182215.0</td>\n",
       "      <td>403851.0</td>\n",
       "      <td>2019-01-01</td>\n",
       "      <td>terça-feira</td>\n",
       "      <td>01:00:00</td>\n",
       "      <td>MG</td>\n",
       "      <td>381.0</td>\n",
       "      <td>327</td>\n",
       "      <td>NOVA ERA</td>\n",
       "      <td>Sim</td>\n",
       "      <td>...</td>\n",
       "      <td>Masculino</td>\n",
       "      <td>1</td>\n",
       "      <td>0</td>\n",
       "      <td>0</td>\n",
       "      <td>0</td>\n",
       "      <td>-19,7609</td>\n",
       "      <td>-43,0306</td>\n",
       "      <td>SR-MG</td>\n",
       "      <td>DEL4/3</td>\n",
       "      <td>UOP01/MG</td>\n",
       "    </tr>\n",
       "    <tr>\n",
       "      <th>9</th>\n",
       "      <td>182216.0</td>\n",
       "      <td>403879.0</td>\n",
       "      <td>2019-01-01</td>\n",
       "      <td>terça-feira</td>\n",
       "      <td>01:50:00</td>\n",
       "      <td>SC</td>\n",
       "      <td>470.0</td>\n",
       "      <td>42,6</td>\n",
       "      <td>GASPAR</td>\n",
       "      <td>Sim</td>\n",
       "      <td>...</td>\n",
       "      <td>Masculino</td>\n",
       "      <td>0</td>\n",
       "      <td>1</td>\n",
       "      <td>0</td>\n",
       "      <td>0</td>\n",
       "      <td>-26,875719</td>\n",
       "      <td>-49,003746</td>\n",
       "      <td>SR-SC</td>\n",
       "      <td>DEL8/4</td>\n",
       "      <td>UOP01/SC</td>\n",
       "    </tr>\n",
       "  </tbody>\n",
       "</table>\n",
       "<p>10 rows × 37 columns</p>\n",
       "</div>"
      ],
      "text/plain": [
       "         id     pesid data_inversa   dia_semana   horario  uf     br     km  \\\n",
       "0  182210.0  402103.0   2019-01-01  terça-feira  01:30:00  SP  116.0    218   \n",
       "1  182210.0  402106.0   2019-01-01  terça-feira  01:30:00  SP  116.0    218   \n",
       "2  182210.0  402104.0   2019-01-01  terça-feira  01:30:00  SP  116.0    218   \n",
       "3  182210.0  402102.0   2019-01-01  terça-feira  01:30:00  SP  116.0    218   \n",
       "4  182211.0  402126.0   2019-01-01  terça-feira  01:30:00  PR  373.0  177,3   \n",
       "5  182212.0  402092.0   2019-01-01  terça-feira  00:45:00  SC  101.0     16   \n",
       "6  182214.0  402095.0   2019-01-01  terça-feira  00:00:00  CE   20.0  429,5   \n",
       "7  182215.0  403852.0   2019-01-01  terça-feira  01:00:00  MG  381.0    327   \n",
       "8  182215.0  403851.0   2019-01-01  terça-feira  01:00:00  MG  381.0    327   \n",
       "9  182216.0  403879.0   2019-01-01  terça-feira  01:50:00  SC  470.0   42,6   \n",
       "\n",
       "      municipio causa_principal  ...       sexo  ilesos feridos_leves  \\\n",
       "0     GUARULHOS             Sim  ...  Masculino       0             1   \n",
       "1     GUARULHOS             Sim  ...  Masculino       0             1   \n",
       "2     GUARULHOS             Sim  ...   Feminino       0             1   \n",
       "3     GUARULHOS             Sim  ...  Masculino       0             1   \n",
       "4  PONTA GROSSA             Sim  ...  Masculino       0             1   \n",
       "5        GARUVA             Sim  ...   Feminino       0             1   \n",
       "6     FORTALEZA             Sim  ...   Feminino       0             0   \n",
       "7      NOVA ERA             Sim  ...  Masculino       0             0   \n",
       "8      NOVA ERA             Sim  ...  Masculino       1             0   \n",
       "9        GASPAR             Sim  ...  Masculino       0             1   \n",
       "\n",
       "  feridos_graves mortos      latitude     longitude regional delegacia  \\\n",
       "0              0      0  -23,46052014  -46,48772478    SR-SP    DEL6/1   \n",
       "1              0      0  -23,46052014  -46,48772478    SR-SP    DEL6/1   \n",
       "2              0      0  -23,46052014  -46,48772478    SR-SP    DEL6/1   \n",
       "3              0      0  -23,46052014  -46,48772478    SR-SP    DEL6/1   \n",
       "4              0      0  -25,05533957  -50,22776753    SR-PR    DEL7/3   \n",
       "5              0      0      -26,1216      -48,8826    SR-SC    DEL8/3   \n",
       "6              1      0      -3,76999    -38,670063    SR-CE   DEL16/1   \n",
       "7              1      0      -19,7609      -43,0306    SR-MG    DEL4/3   \n",
       "8              0      0      -19,7609      -43,0306    SR-MG    DEL4/3   \n",
       "9              0      0    -26,875719    -49,003746    SR-SC    DEL8/4   \n",
       "\n",
       "        uop  \n",
       "0  UOP01/SP  \n",
       "1  UOP01/SP  \n",
       "2  UOP01/SP  \n",
       "3  UOP01/SP  \n",
       "4  UOP01/PR  \n",
       "5  UOP01/SC  \n",
       "6  UOP02/CE  \n",
       "7  UOP01/MG  \n",
       "8  UOP01/MG  \n",
       "9  UOP01/SC  \n",
       "\n",
       "[10 rows x 37 columns]"
      ]
     },
     "execution_count": 2,
     "metadata": {},
     "output_type": "execute_result"
    }
   ],
   "source": [
    "url = 'https://bitbucket.org/SamuelHericlesBit/datasets/raw/f54dca5ffc162c58d66ff75c2df601e4f31c061c/acidentes2019_todas_causas_tipos.csv'\n",
    "df = pd.read_csv(url, sep = ';', encoding = 'latin-1')\n",
    "df.head(10)"
   ]
  },
  {
   "cell_type": "markdown",
   "metadata": {
    "id": "Jf3hlxLCuTUJ"
   },
   "source": [
    "# 3 - Tratamento dos dados\n",
    "- Zero para valores nulos caso a coluna seja de dados numéricos;\n",
    "- Vazios para strings nulas."
   ]
  },
  {
   "cell_type": "code",
   "execution_count": 3,
   "metadata": {
    "id": "zBGs1abhiji0"
   },
   "outputs": [],
   "source": [
    "df[\"pesid\"].fillna(0, inplace=True)\n",
    "df[\"br\"].fillna(0, inplace=True)\n",
    "df[\"km\"].fillna(0, inplace=True)\n",
    "df[\"id_veiculo\"].fillna(0, inplace=True)\n",
    "df[\"marca\"].fillna('Vazio', inplace=True)\n",
    "df[\"ano_fabricacao_veiculo\"].fillna(0, inplace=True)\n",
    "df[\"idade\"].fillna(0, inplace=True)\n",
    "df[\"uop\"].fillna('Vazio', inplace=True)\n",
    "df[\"tipo_acidente\"].fillna('Vazio', inplace=True)\n",
    "df[\"ordem_tipo_acidente\"].fillna('Vazio', inplace=True)       "
   ]
  },
  {
   "cell_type": "markdown",
   "metadata": {
    "id": "JSwZYoAXfOdN"
   },
   "source": [
    "Verificamos que não há mais valores nulos.\n",
    "\n"
   ]
  },
  {
   "cell_type": "code",
   "execution_count": 4,
   "metadata": {
    "colab": {
     "base_uri": "https://localhost:8080/",
     "height": 652
    },
    "id": "VAFhVph-iSAm",
    "outputId": "715b6c96-4c28-47b7-ebe2-4ffd2b8d23c0"
   },
   "outputs": [
    {
     "data": {
      "text/plain": [
       "id                        0\n",
       "pesid                     0\n",
       "data_inversa              0\n",
       "dia_semana                0\n",
       "horario                   0\n",
       "uf                        0\n",
       "br                        0\n",
       "km                        0\n",
       "municipio                 0\n",
       "causa_principal           0\n",
       "causa_acidente            0\n",
       "ordem_tipo_acidente       0\n",
       "tipo_acidente             0\n",
       "classificacao_acidente    0\n",
       "fase_dia                  0\n",
       "sentido_via               0\n",
       "condicao_metereologica    0\n",
       "tipo_pista                0\n",
       "tracado_via               0\n",
       "uso_solo                  0\n",
       "id_veiculo                0\n",
       "tipo_veiculo              0\n",
       "marca                     0\n",
       "ano_fabricacao_veiculo    0\n",
       "tipo_envolvido            0\n",
       "estado_fisico             0\n",
       "idade                     0\n",
       "sexo                      0\n",
       "ilesos                    0\n",
       "feridos_leves             0\n",
       "feridos_graves            0\n",
       "mortos                    0\n",
       "latitude                  0\n",
       "longitude                 0\n",
       "regional                  0\n",
       "delegacia                 0\n",
       "uop                       0\n",
       "dtype: int64"
      ]
     },
     "execution_count": 4,
     "metadata": {},
     "output_type": "execute_result"
    }
   ],
   "source": [
    "df.isnull().sum()"
   ]
  },
  {
   "cell_type": "markdown",
   "metadata": {
    "id": "fumJfkOHfXOo"
   },
   "source": [
    "# 3.1 - Verifiacando de outra forma com a função *info()* do pandas "
   ]
  },
  {
   "cell_type": "markdown",
   "metadata": {
    "id": "gxrinpoGgK6a"
   },
   "source": [
    "Vemos que não existe colunas nulas pela quatidade de colunas *non-null*, então não há mais valores nulos para a abordagem."
   ]
  },
  {
   "cell_type": "code",
   "execution_count": 5,
   "metadata": {
    "colab": {
     "base_uri": "https://localhost:8080/",
     "height": 753
    },
    "id": "gDXBeYLpzvS0",
    "outputId": "8901511d-778d-43e9-a6e2-4e218862a023"
   },
   "outputs": [
    {
     "name": "stdout",
     "output_type": "stream",
     "text": [
      "<class 'pandas.core.frame.DataFrame'>\n",
      "RangeIndex: 331666 entries, 0 to 331665\n",
      "Data columns (total 37 columns):\n",
      " #   Column                  Non-Null Count   Dtype  \n",
      "---  ------                  --------------   -----  \n",
      " 0   id                      331666 non-null  float64\n",
      " 1   pesid                   331666 non-null  float64\n",
      " 2   data_inversa            331666 non-null  object \n",
      " 3   dia_semana              331666 non-null  object \n",
      " 4   horario                 331666 non-null  object \n",
      " 5   uf                      331666 non-null  object \n",
      " 6   br                      331666 non-null  float64\n",
      " 7   km                      331666 non-null  object \n",
      " 8   municipio               331666 non-null  object \n",
      " 9   causa_principal         331666 non-null  object \n",
      " 10  causa_acidente          331666 non-null  object \n",
      " 11  ordem_tipo_acidente     331666 non-null  object \n",
      " 12  tipo_acidente           331666 non-null  object \n",
      " 13  classificacao_acidente  331666 non-null  object \n",
      " 14  fase_dia                331666 non-null  object \n",
      " 15  sentido_via             331666 non-null  object \n",
      " 16  condicao_metereologica  331666 non-null  object \n",
      " 17  tipo_pista              331666 non-null  object \n",
      " 18  tracado_via             331666 non-null  object \n",
      " 19  uso_solo                331666 non-null  object \n",
      " 20  id_veiculo              331666 non-null  int64  \n",
      " 21  tipo_veiculo            331666 non-null  object \n",
      " 22  marca                   331666 non-null  object \n",
      " 23  ano_fabricacao_veiculo  331666 non-null  float64\n",
      " 24  tipo_envolvido          331666 non-null  object \n",
      " 25  estado_fisico           331666 non-null  object \n",
      " 26  idade                   331666 non-null  float64\n",
      " 27  sexo                    331666 non-null  object \n",
      " 28  ilesos                  331666 non-null  int64  \n",
      " 29  feridos_leves           331666 non-null  int64  \n",
      " 30  feridos_graves          331666 non-null  int64  \n",
      " 31  mortos                  331666 non-null  int64  \n",
      " 32  latitude                331666 non-null  object \n",
      " 33  longitude               331666 non-null  object \n",
      " 34  regional                331666 non-null  object \n",
      " 35  delegacia               331666 non-null  object \n",
      " 36  uop                     331666 non-null  object \n",
      "dtypes: float64(5), int64(5), object(27)\n",
      "memory usage: 59.5+ MB\n"
     ]
    }
   ],
   "source": [
    "df.info()"
   ]
  },
  {
   "cell_type": "markdown",
   "metadata": {
    "id": "ywrOq7wPgwHz"
   },
   "source": [
    "# 3.2 Corrigindo os tipos de dados\n",
    "\n",
    "Há colunas que apresentam valores inteiros, mas estavam na forma de double. Como também, havia datas que estava no formato diferente do habitual de DD-MM-AAAA.\n",
    "\n"
   ]
  },
  {
   "cell_type": "code",
   "execution_count": 6,
   "metadata": {
    "id": "L27lJzT6k8Qc"
   },
   "outputs": [],
   "source": [
    "df[\"pesid\"] = df[\"pesid\"].astype(int)\n",
    "df[\"ano_fabricacao_veiculo\"] = df[\"ano_fabricacao_veiculo\"].astype(int)\n",
    "df[\"idade\"] = df[\"idade\"].astype(int)\n",
    "df[\"data_inversa\"] = pd.to_datetime(df[\"data_inversa\"])\n",
    "df[\"horario\"] = pd.to_datetime(df[\"horario\"])"
   ]
  },
  {
   "cell_type": "code",
   "execution_count": 7,
   "metadata": {
    "colab": {
     "base_uri": "https://localhost:8080/",
     "height": 384
    },
    "id": "1h9hhF6_lRt-",
    "outputId": "7ac3a5e1-98e4-4d7b-da41-0745f63ec99d"
   },
   "outputs": [
    {
     "data": {
      "text/html": [
       "<div>\n",
       "<style scoped>\n",
       "    .dataframe tbody tr th:only-of-type {\n",
       "        vertical-align: middle;\n",
       "    }\n",
       "\n",
       "    .dataframe tbody tr th {\n",
       "        vertical-align: top;\n",
       "    }\n",
       "\n",
       "    .dataframe thead th {\n",
       "        text-align: right;\n",
       "    }\n",
       "</style>\n",
       "<table border=\"1\" class=\"dataframe\">\n",
       "  <thead>\n",
       "    <tr style=\"text-align: right;\">\n",
       "      <th></th>\n",
       "      <th>id</th>\n",
       "      <th>pesid</th>\n",
       "      <th>data_inversa</th>\n",
       "      <th>dia_semana</th>\n",
       "      <th>horario</th>\n",
       "      <th>uf</th>\n",
       "      <th>br</th>\n",
       "      <th>km</th>\n",
       "      <th>municipio</th>\n",
       "      <th>causa_principal</th>\n",
       "      <th>...</th>\n",
       "      <th>sexo</th>\n",
       "      <th>ilesos</th>\n",
       "      <th>feridos_leves</th>\n",
       "      <th>feridos_graves</th>\n",
       "      <th>mortos</th>\n",
       "      <th>latitude</th>\n",
       "      <th>longitude</th>\n",
       "      <th>regional</th>\n",
       "      <th>delegacia</th>\n",
       "      <th>uop</th>\n",
       "    </tr>\n",
       "  </thead>\n",
       "  <tbody>\n",
       "    <tr>\n",
       "      <th>0</th>\n",
       "      <td>182210.0</td>\n",
       "      <td>402103</td>\n",
       "      <td>2019-01-01</td>\n",
       "      <td>terça-feira</td>\n",
       "      <td>2020-10-04 01:30:00</td>\n",
       "      <td>SP</td>\n",
       "      <td>116.0</td>\n",
       "      <td>218</td>\n",
       "      <td>GUARULHOS</td>\n",
       "      <td>Sim</td>\n",
       "      <td>...</td>\n",
       "      <td>Masculino</td>\n",
       "      <td>0</td>\n",
       "      <td>1</td>\n",
       "      <td>0</td>\n",
       "      <td>0</td>\n",
       "      <td>-23,46052014</td>\n",
       "      <td>-46,48772478</td>\n",
       "      <td>SR-SP</td>\n",
       "      <td>DEL6/1</td>\n",
       "      <td>UOP01/SP</td>\n",
       "    </tr>\n",
       "    <tr>\n",
       "      <th>1</th>\n",
       "      <td>182210.0</td>\n",
       "      <td>402106</td>\n",
       "      <td>2019-01-01</td>\n",
       "      <td>terça-feira</td>\n",
       "      <td>2020-10-04 01:30:00</td>\n",
       "      <td>SP</td>\n",
       "      <td>116.0</td>\n",
       "      <td>218</td>\n",
       "      <td>GUARULHOS</td>\n",
       "      <td>Sim</td>\n",
       "      <td>...</td>\n",
       "      <td>Masculino</td>\n",
       "      <td>0</td>\n",
       "      <td>1</td>\n",
       "      <td>0</td>\n",
       "      <td>0</td>\n",
       "      <td>-23,46052014</td>\n",
       "      <td>-46,48772478</td>\n",
       "      <td>SR-SP</td>\n",
       "      <td>DEL6/1</td>\n",
       "      <td>UOP01/SP</td>\n",
       "    </tr>\n",
       "    <tr>\n",
       "      <th>2</th>\n",
       "      <td>182210.0</td>\n",
       "      <td>402104</td>\n",
       "      <td>2019-01-01</td>\n",
       "      <td>terça-feira</td>\n",
       "      <td>2020-10-04 01:30:00</td>\n",
       "      <td>SP</td>\n",
       "      <td>116.0</td>\n",
       "      <td>218</td>\n",
       "      <td>GUARULHOS</td>\n",
       "      <td>Sim</td>\n",
       "      <td>...</td>\n",
       "      <td>Feminino</td>\n",
       "      <td>0</td>\n",
       "      <td>1</td>\n",
       "      <td>0</td>\n",
       "      <td>0</td>\n",
       "      <td>-23,46052014</td>\n",
       "      <td>-46,48772478</td>\n",
       "      <td>SR-SP</td>\n",
       "      <td>DEL6/1</td>\n",
       "      <td>UOP01/SP</td>\n",
       "    </tr>\n",
       "    <tr>\n",
       "      <th>3</th>\n",
       "      <td>182210.0</td>\n",
       "      <td>402102</td>\n",
       "      <td>2019-01-01</td>\n",
       "      <td>terça-feira</td>\n",
       "      <td>2020-10-04 01:30:00</td>\n",
       "      <td>SP</td>\n",
       "      <td>116.0</td>\n",
       "      <td>218</td>\n",
       "      <td>GUARULHOS</td>\n",
       "      <td>Sim</td>\n",
       "      <td>...</td>\n",
       "      <td>Masculino</td>\n",
       "      <td>0</td>\n",
       "      <td>1</td>\n",
       "      <td>0</td>\n",
       "      <td>0</td>\n",
       "      <td>-23,46052014</td>\n",
       "      <td>-46,48772478</td>\n",
       "      <td>SR-SP</td>\n",
       "      <td>DEL6/1</td>\n",
       "      <td>UOP01/SP</td>\n",
       "    </tr>\n",
       "    <tr>\n",
       "      <th>4</th>\n",
       "      <td>182211.0</td>\n",
       "      <td>402126</td>\n",
       "      <td>2019-01-01</td>\n",
       "      <td>terça-feira</td>\n",
       "      <td>2020-10-04 01:30:00</td>\n",
       "      <td>PR</td>\n",
       "      <td>373.0</td>\n",
       "      <td>177,3</td>\n",
       "      <td>PONTA GROSSA</td>\n",
       "      <td>Sim</td>\n",
       "      <td>...</td>\n",
       "      <td>Masculino</td>\n",
       "      <td>0</td>\n",
       "      <td>1</td>\n",
       "      <td>0</td>\n",
       "      <td>0</td>\n",
       "      <td>-25,05533957</td>\n",
       "      <td>-50,22776753</td>\n",
       "      <td>SR-PR</td>\n",
       "      <td>DEL7/3</td>\n",
       "      <td>UOP01/PR</td>\n",
       "    </tr>\n",
       "  </tbody>\n",
       "</table>\n",
       "<p>5 rows × 37 columns</p>\n",
       "</div>"
      ],
      "text/plain": [
       "         id   pesid data_inversa   dia_semana             horario  uf     br  \\\n",
       "0  182210.0  402103   2019-01-01  terça-feira 2020-10-04 01:30:00  SP  116.0   \n",
       "1  182210.0  402106   2019-01-01  terça-feira 2020-10-04 01:30:00  SP  116.0   \n",
       "2  182210.0  402104   2019-01-01  terça-feira 2020-10-04 01:30:00  SP  116.0   \n",
       "3  182210.0  402102   2019-01-01  terça-feira 2020-10-04 01:30:00  SP  116.0   \n",
       "4  182211.0  402126   2019-01-01  terça-feira 2020-10-04 01:30:00  PR  373.0   \n",
       "\n",
       "      km     municipio causa_principal  ...       sexo ilesos feridos_leves  \\\n",
       "0    218     GUARULHOS             Sim  ...  Masculino      0             1   \n",
       "1    218     GUARULHOS             Sim  ...  Masculino      0             1   \n",
       "2    218     GUARULHOS             Sim  ...   Feminino      0             1   \n",
       "3    218     GUARULHOS             Sim  ...  Masculino      0             1   \n",
       "4  177,3  PONTA GROSSA             Sim  ...  Masculino      0             1   \n",
       "\n",
       "  feridos_graves mortos      latitude     longitude regional delegacia  \\\n",
       "0              0      0  -23,46052014  -46,48772478    SR-SP    DEL6/1   \n",
       "1              0      0  -23,46052014  -46,48772478    SR-SP    DEL6/1   \n",
       "2              0      0  -23,46052014  -46,48772478    SR-SP    DEL6/1   \n",
       "3              0      0  -23,46052014  -46,48772478    SR-SP    DEL6/1   \n",
       "4              0      0  -25,05533957  -50,22776753    SR-PR    DEL7/3   \n",
       "\n",
       "        uop  \n",
       "0  UOP01/SP  \n",
       "1  UOP01/SP  \n",
       "2  UOP01/SP  \n",
       "3  UOP01/SP  \n",
       "4  UOP01/PR  \n",
       "\n",
       "[5 rows x 37 columns]"
      ]
     },
     "execution_count": 7,
     "metadata": {},
     "output_type": "execute_result"
    }
   ],
   "source": [
    "df.head()"
   ]
  },
  {
   "cell_type": "markdown",
   "metadata": {
    "id": "HnDyhHg2hSsm"
   },
   "source": [
    "# 3.3 - Tirando idades maiores de 120 anos e menores que 0 anos\n",
    "Acreditando que não pessoas há pessoas com menos 0 anos(alguns valores negativos) e que diregem e pessoas que com mais de 120 anos digerem.\n"
   ]
  },
  {
   "cell_type": "code",
   "execution_count": 8,
   "metadata": {
    "id": "27P48ccDm1WP"
   },
   "outputs": [],
   "source": [
    "df.loc[df.idade >= 120, \"idade\"] = 0\n",
    "df.loc[df.idade <= 0, \"idade\"]   = 0"
   ]
  },
  {
   "cell_type": "markdown",
   "metadata": {
    "id": "V68Mp4Sa03ET"
   },
   "source": [
    "# 4 - Exploração dos dados(EDA)\n"
   ]
  },
  {
   "cell_type": "markdown",
   "metadata": {
    "id": "C5f6ZPIHCDsH"
   },
   "source": [
    "# 4.1 - Matriz de correlação dos dados inteiros\n",
    "Para valores próximos de 1 a correlação de uma coluna com outra quer dizer que os dados são propocionais, logo o contrário quando a correlação é próxima de -1 mostra que os dados são inversamente propocionais."
   ]
  },
  {
   "cell_type": "code",
   "execution_count": 9,
   "metadata": {
    "colab": {
     "base_uri": "https://localhost:8080/",
     "height": 702
    },
    "id": "-enFb0ld1Mrf",
    "outputId": "23fd9718-b30b-4d0b-d176-40ab6ca910ee"
   },
   "outputs": [
    {
     "data": {
      "image/png": "[encoded data removed]",
      "text/plain": [
       "<Figure size 720x720 with 2 Axes>"
      ]
     },
     "metadata": {
      "needs_background": "light"
     },
     "output_type": "display_data"
    }
   ],
   "source": [
    "plt.figure(figsize = (10, 10))\n",
    "matriz = df.corr() \n",
    "sns.heatmap(matriz, vmin=-1, vmax=1, center=0,annot=True,cmap=\"YlGnBu\")\n",
    "plt.show()"
   ]
  },
  {
   "cell_type": "markdown",
   "metadata": {
    "id": "JjMG-PCTCDsL"
   },
   "source": [
    "# 4.2 - Ranking de mortos por município"
   ]
  },
  {
   "cell_type": "code",
   "execution_count": 10,
   "metadata": {
    "colab": {
     "base_uri": "https://localhost:8080/",
     "height": 217
    },
    "id": "sXn3pNeSf73W",
    "outputId": "34b1984c-7c81-4975-dd17-63ee06d103c3"
   },
   "outputs": [
    {
     "data": {
      "text/plain": [
       "municipio\n",
       "RIACHAO DAS NEVES    167\n",
       "CAUCAIA              132\n",
       "CAPAO ALTO           128\n",
       "BRASILIA             102\n",
       "PALHOCA               95\n",
       "FORTALEZA             81\n",
       "CURITIBA              80\n",
       "PARANAIBA             71\n",
       "NOVA ANDRADINA        67\n",
       "SAO JOSE              67\n",
       "Name: mortos, dtype: int64"
      ]
     },
     "execution_count": 10,
     "metadata": {
      "tags": []
     },
     "output_type": "execute_result"
    }
   ],
   "source": [
    "df.groupby(\"municipio\")[\"mortos\"].sum().sort_values(ascending=False).head(10)"
   ]
  },
  {
   "cell_type": "markdown",
   "metadata": {
    "id": "AK9qZYenCDsQ"
   },
   "source": [
    "# 4.3 - Ranking de mortos por rodivia"
   ]
  },
  {
   "cell_type": "code",
   "execution_count": 11,
   "metadata": {
    "colab": {
     "base_uri": "https://localhost:8080/",
     "height": 217
    },
    "id": "ey158VRCOT6P",
    "outputId": "7e9e0653-8ff8-40e5-c23a-e81ab4939b29"
   },
   "outputs": [
    {
     "data": {
      "text/plain": [
       "br\n",
       "101.0    1498\n",
       "116.0    1491\n",
       "40.0      508\n",
       "364.0     493\n",
       "153.0     477\n",
       "381.0     436\n",
       "163.0     423\n",
       "316.0     371\n",
       "262.0     346\n",
       "230.0     337\n",
       "Name: mortos, dtype: int64"
      ]
     },
     "execution_count": 11,
     "metadata": {
      "tags": []
     },
     "output_type": "execute_result"
    }
   ],
   "source": [
    "df.groupby(\"br\")[\"mortos\"].sum().sort_values(ascending=False).head(10)"
   ]
  },
  {
   "cell_type": "markdown",
   "metadata": {
    "id": "jTpZUZ-NCDsU"
   },
   "source": [
    "# 4.4 - Gráfico da quantidade de mortes por ocorrência no período de 04/2019 à 06/2019"
   ]
  },
  {
   "cell_type": "code",
   "execution_count": 12,
   "metadata": {
    "colab": {
     "base_uri": "https://localhost:8080/",
     "height": 644
    },
    "id": "0Q8fMcCPO_MB",
    "outputId": "c7cb0cb7-489a-4e37-ec61-a4b70d518be3"
   },
   "outputs": [
    {
     "data": {
      "text/plain": [
       "Text(0.5, 0, ' ')"
      ]
     },
     "execution_count": 12,
     "metadata": {
      "tags": []
     },
     "output_type": "execute_result"
    },
    {
     "data": {
      "image/png": "[encoded data removed]",
      "text/plain": [
       "<Figure size 1440x720 with 1 Axes>"
      ]
     },
     "metadata": {
      "needs_background": "light",
      "tags": []
     },
     "output_type": "display_data"
    }
   ],
   "source": [
    "df_prov = df.loc[df['data_inversa'] >= '2019-04']\n",
    "df_prov = df_prov.loc[df_prov['data_inversa'] <= '2019-06']\n",
    "plt.figure(figsize=(20, 10))\n",
    "g = sns.lineplot(x = df_prov['data_inversa'], y = df_prov['mortos'])\n",
    "plt.title('Número de mortos na data de 04/2019 à 06/2019',fontsize=20)\n",
    "g.set_ylabel('Mortos',fontsize=20)\n",
    "g.set_xlabel(' ')"
   ]
  },
  {
   "cell_type": "code",
   "execution_count": 13,
   "metadata": {
    "colab": {
     "base_uri": "https://localhost:8080/",
     "height": 217
    },
    "id": "4fyjjpw0CDsd",
    "outputId": "c6cba336-e006-4977-9208-99db1c9ab2e3"
   },
   "outputs": [
    {
     "data": {
      "text/plain": [
       "id\n",
       "207953.0      0\n",
       "207987.0      0\n",
       "208027.0      0\n",
       "208048.0      0\n",
       "208078.0      1\n",
       "208079.0      1\n",
       "208093.0      0\n",
       "208107.0    160\n",
       "208373.0      0\n",
       "211464.0      0\n",
       "Name: mortos, dtype: int64"
      ]
     },
     "execution_count": 13,
     "metadata": {
      "tags": []
     },
     "output_type": "execute_result"
    }
   ],
   "source": [
    "df.query(\"data_inversa == '2019-05-08' and uf== 'BA'\").groupby('id')['mortos'].sum()"
   ]
  },
  {
   "cell_type": "markdown",
   "metadata": {
    "id": "4OJRvdOwCDsg"
   },
   "source": [
    "# 4.5 - Gráfico da quantidade de feridos graves por ocorrência no período de 04/2019 à 06/2019"
   ]
  },
  {
   "cell_type": "code",
   "execution_count": 14,
   "metadata": {
    "colab": {
     "base_uri": "https://localhost:8080/",
     "height": 645
    },
    "id": "elMAoRNuPtbd",
    "outputId": "8537aba1-08ed-482d-f604-9ea54976571b"
   },
   "outputs": [
    {
     "data": {
      "text/plain": [
       "Text(0.5, 0, ' ')"
      ]
     },
     "execution_count": 14,
     "metadata": {
      "tags": []
     },
     "output_type": "execute_result"
    },
    {
     "data": {
      "image/png": "[encoded data removed]",
      "text/plain": [
       "<Figure size 1440x720 with 1 Axes>"
      ]
     },
     "metadata": {
      "needs_background": "light",
      "tags": []
     },
     "output_type": "display_data"
    }
   ],
   "source": [
    "df_prov = df.loc[df['data_inversa'] >= '2019-04']\n",
    "df_prov = df_prov.loc[df_prov['data_inversa'] <= '2019-06']\n",
    "plt.figure(figsize=(20, 10))\n",
    "g = sns.lineplot(x = df_prov['data_inversa'], y = df_prov['feridos_graves'])\n",
    "plt.title('Número de feridos graves na data de 04/2019 à 06/2019',fontsize=20)\n",
    "g.set_ylabel('Feridos graves',fontsize=20)\n",
    "g.set_xlabel(' ')"
   ]
  },
  {
   "cell_type": "markdown",
   "metadata": {
    "id": "WQ6ui7_FCDsj"
   },
   "source": [
    "# 4.6 - Agrupamento por estado"
   ]
  },
  {
   "cell_type": "code",
   "execution_count": 15,
   "metadata": {
    "colab": {
     "base_uri": "https://localhost:8080/",
     "height": 651
    },
    "id": "QuTgwrm269Mb",
    "outputId": "81ea8b4e-676c-4ab4-fd99-03958758c91e"
   },
   "outputs": [
    {
     "data": {
      "text/plain": [
       "Text(0.5, 0, ' ')"
      ]
     },
     "execution_count": 15,
     "metadata": {
      "tags": []
     },
     "output_type": "execute_result"
    },
    {
     "data": {
      "image/png": "[encoded data removed]",
      "text/plain": [
       "<Figure size 1440x720 with 1 Axes>"
      ]
     },
     "metadata": {
      "needs_background": "light",
      "tags": []
     },
     "output_type": "display_data"
    }
   ],
   "source": [
    "plt.figure(figsize=(20,10))\n",
    "ax = df.groupby(\"uf\")[\"mortos\"].sum().sort_values(ascending=False).plot.bar()\n",
    "plt.title('Quantidade de mortes em ocorrências por estado',fontsize=20)\n",
    "ax.set_ylabel('Quantidade de mortes',fontsize=15)\n",
    "ax.set_xlabel(' ')"
   ]
  },
  {
   "cell_type": "markdown",
   "metadata": {
    "id": "mzodym2MCDsp"
   },
   "source": [
    "# 4.7 - Agrupamento de tipos de acidentes por mortos"
   ]
  },
  {
   "cell_type": "code",
   "execution_count": 16,
   "metadata": {
    "colab": {
     "base_uri": "https://localhost:8080/",
     "height": 632
    },
    "id": "F8OTNNzXSz47",
    "outputId": "62b1881d-52e8-4463-9b59-71acd87ca32e"
   },
   "outputs": [
    {
     "data": {
      "text/plain": [
       "Text(0.5, 0, 'Mortes')"
      ]
     },
     "execution_count": 16,
     "metadata": {
      "tags": []
     },
     "output_type": "execute_result"
    },
    {
     "data": {
      "image/png": "[encoded data removed]",
      "text/plain": [
       "<Figure size 1440x720 with 1 Axes>"
      ]
     },
     "metadata": {
      "needs_background": "light",
      "tags": []
     },
     "output_type": "display_data"
    }
   ],
   "source": [
    "plt.figure(figsize=(20,10))\n",
    "ax = df.groupby(\"tipo_acidente\")[\"mortos\"].sum().sort_values(ascending=True) #.plot.bar()\n",
    "y = ax.index\n",
    "x = ax.values\n",
    "plt.barh(y,x)\n",
    "plt.title('Quantidade de mortes por tipo de acidente',fontsize=20)\n",
    "plt.xlabel('Mortes', fontsize=15)"
   ]
  },
  {
   "cell_type": "markdown",
   "metadata": {
    "id": "FBXogkEZCDst"
   },
   "source": [
    "# 4.8 - Agrupamento de tipos de acidentes por traçado da via"
   ]
  },
  {
   "cell_type": "code",
   "execution_count": 17,
   "metadata": {
    "colab": {
     "base_uri": "https://localhost:8080/",
     "height": 653
    },
    "id": "NFwrdzNTaQ8c",
    "outputId": "878d3f88-8a86-44eb-ae9c-0de2723e61e4"
   },
   "outputs": [
    {
     "data": {
      "text/plain": [
       "Text(0.5, 0, 'Mortes')"
      ]
     },
     "execution_count": 17,
     "metadata": {
      "tags": []
     },
     "output_type": "execute_result"
    },
    {
     "data": {
      "image/png": "[encoded data removed]",
      "text/plain": [
       "<Figure size 1440x720 with 1 Axes>"
      ]
     },
     "metadata": {
      "needs_background": "light",
      "tags": []
     },
     "output_type": "display_data"
    }
   ],
   "source": [
    "df_prov = df.loc[df['tipo_acidente'] == 'Colisão frontal']\n",
    "plt.figure(figsize=(20,10))\n",
    "ax = df_prov.groupby(\"tracado_via\")[\"mortos\"].sum().sort_values(ascending=True)\n",
    "y = ax.index\n",
    "x = ax.values\n",
    "plt.barh(y,x)\n",
    "plt.title('Quantidade de mortos por tipo de traçado da via',fontsize=20)\n",
    "plt.xlabel('Mortes', fontsize=20)"
   ]
  },
  {
   "cell_type": "markdown",
   "metadata": {
    "id": "_uEMdC_tCDsw"
   },
   "source": [
    "# 4.9 - Agrupamento de causas de acidente por mortos no total"
   ]
  },
  {
   "cell_type": "code",
   "execution_count": 18,
   "metadata": {
    "colab": {
     "base_uri": "https://localhost:8080/",
     "height": 540
    },
    "id": "pA4pqw3EacS8",
    "outputId": "2ea56ddc-1f02-4ed6-a205-723090cc3206"
   },
   "outputs": [
    {
     "data": {
      "text/plain": [
       "Text(0.5, 0, 'Mortes')"
      ]
     },
     "execution_count": 18,
     "metadata": {
      "tags": []
     },
     "output_type": "execute_result"
    },
    {
     "data": {
      "image/png": "[encoded data removed]",
      "text/plain": [
       "<Figure size 1440x720 with 1 Axes>"
      ]
     },
     "metadata": {
      "needs_background": "light",
      "tags": []
     },
     "output_type": "display_data"
    }
   ],
   "source": [
    "plt.figure(figsize=(20,10))\n",
    "ax = df.groupby(\"causa_acidente\")[\"mortos\"].sum().sort_values(ascending=True) \n",
    "y = ax.index\n",
    "x = ax.values\n",
    "plt.barh(y,x)\n",
    "plt.title('Quantidade de mortos por causa de acidente',fontsize=20)\n",
    "plt.xlabel('Mortes',fontsize=12)"
   ]
  },
  {
   "cell_type": "markdown",
   "metadata": {
    "id": "GPrbc_qICDs0"
   },
   "source": [
    "# 4.10 - Agrupamento de dias da semana por mortos no total"
   ]
  },
  {
   "cell_type": "code",
   "execution_count": 19,
   "metadata": {
    "colab": {
     "base_uri": "https://localhost:8080/",
     "height": 649
    },
    "id": "SW3BZBRWbZzP",
    "outputId": "64e901a9-f2e9-4247-d2ed-8f1bc5214363"
   },
   "outputs": [
    {
     "data": {
      "text/plain": [
       "Text(0.5, 0, 'Mortes')"
      ]
     },
     "execution_count": 19,
     "metadata": {
      "tags": []
     },
     "output_type": "execute_result"
    },
    {
     "data": {
      "image/png": "[encoded data removed]",
      "text/plain": [
       "<Figure size 1440x720 with 1 Axes>"
      ]
     },
     "metadata": {
      "needs_background": "light",
      "tags": []
     },
     "output_type": "display_data"
    }
   ],
   "source": [
    "plt.figure(figsize=(20,10))\n",
    "ax = df.groupby(\"dia_semana\")[\"mortos\"].sum().sort_values(ascending=False)\n",
    "y = ax.index\n",
    "x = ax.values\n",
    "plt.bar(y,x)\n",
    "plt.title('Quantidade de mortos por dia da semana',fontsize=20)\n",
    "plt.xlabel('Mortes', fontsize=15)"
   ]
  },
  {
   "cell_type": "markdown",
   "metadata": {
    "id": "otVjlKwrCDs5"
   },
   "source": [
    "# 4.11 - Agrupamento de condição metereologica por total de mortos"
   ]
  },
  {
   "cell_type": "code",
   "execution_count": 20,
   "metadata": {
    "colab": {
     "base_uri": "https://localhost:8080/",
     "height": 649
    },
    "id": "_47uOtPJgjnA",
    "outputId": "4856f59a-794e-4326-ad5f-c041e3375ffb"
   },
   "outputs": [
    {
     "data": {
      "text/plain": [
       "Text(0.5, 0, 'Mortes')"
      ]
     },
     "execution_count": 20,
     "metadata": {
      "tags": []
     },
     "output_type": "execute_result"
    },
    {
     "data": {
      "image/png": "[encoded data removed]",
      "text/plain": [
       "<Figure size 1440x720 with 1 Axes>"
      ]
     },
     "metadata": {
      "needs_background": "light",
      "tags": []
     },
     "output_type": "display_data"
    }
   ],
   "source": [
    "plt.figure(figsize=(20,10))\n",
    "ax = df.groupby(\"condicao_metereologica\")[\"mortos\"].sum().sort_values(ascending=False)\n",
    "y = ax.index\n",
    "x = ax.values\n",
    "plt.bar(y,x)\n",
    "plt.title('Quantidade de mortes por condição metereológica',fontsize=20)\n",
    "plt.xlabel('Mortes',fontsize=15)"
   ]
  },
  {
   "cell_type": "markdown",
   "metadata": {
    "id": "iu2_if60CDs9"
   },
   "source": [
    "# 4.12 - Agrupamento da fase do dia por quantidade de mortes"
   ]
  },
  {
   "cell_type": "code",
   "execution_count": 21,
   "metadata": {
    "colab": {
     "base_uri": "https://localhost:8080/",
     "height": 649
    },
    "id": "vAXhsr3Bg4Yr",
    "outputId": "2e02fe2c-4456-42d3-b21c-3f4cb252aa88"
   },
   "outputs": [
    {
     "data": {
      "text/plain": [
       "Text(0.5, 0, 'Mortes')"
      ]
     },
     "execution_count": 21,
     "metadata": {
      "tags": []
     },
     "output_type": "execute_result"
    },
    {
     "data": {
      "image/png": "[encoded data removed]",
      "text/plain": [
       "<Figure size 1440x720 with 1 Axes>"
      ]
     },
     "metadata": {
      "needs_background": "light",
      "tags": []
     },
     "output_type": "display_data"
    }
   ],
   "source": [
    "plt.figure(figsize=(20,10))\n",
    "ax = df.groupby(\"fase_dia\")[\"mortos\"].sum().sort_values(ascending=False)\n",
    "y = ax.index\n",
    "x = ax.values\n",
    "plt.bar(y,x)\n",
    "plt.title('Quantidade de mortes pela fase do dia', fontsize=20)\n",
    "plt.xlabel('Mortes', fontsize=15)"
   ]
  },
  {
   "cell_type": "markdown",
   "metadata": {
    "id": "Pn3krJPmCDtB"
   },
   "source": [
    "# 4.13 - Agrupamento pela idade em mortos no total"
   ]
  },
  {
   "cell_type": "code",
   "execution_count": 22,
   "metadata": {
    "colab": {
     "base_uri": "https://localhost:8080/",
     "height": 651
    },
    "id": "tlZEdQNxhYUQ",
    "outputId": "875a1185-62a7-4055-ca72-ed6d9b538fe7"
   },
   "outputs": [
    {
     "data": {
      "text/plain": [
       "Text(0.5, 0, 'idade')"
      ]
     },
     "execution_count": 22,
     "metadata": {
      "tags": []
     },
     "output_type": "execute_result"
    },
    {
     "data": {
      "image/png": "[encoded data removed]",
      "text/plain": [
       "<Figure size 1440x720 with 1 Axes>"
      ]
     },
     "metadata": {
      "needs_background": "light",
      "tags": []
     },
     "output_type": "display_data"
    }
   ],
   "source": [
    "plt.figure(figsize=(20,10))\n",
    "df.groupby(\"idade\")[\"mortos\"].sum().sort_values(ascending=False).head(25).plot.bar()\n",
    "plt.title('Quantidade de mortes em relação a idade dos envolvidos',fontsize=20)\n",
    "plt.xlabel('idade', fontsize=15)"
   ]
  },
  {
   "cell_type": "markdown",
   "metadata": {
    "id": "zX-T7GBoct-W"
   },
   "source": [
    "# 5 - Frequência de ocorrências ordenada por percentual \n",
    "\n"
   ]
  },
  {
   "cell_type": "code",
   "execution_count": 23,
   "metadata": {
    "id": "1ybzgTkmCDtK"
   },
   "outputs": [],
   "source": [
    "def freq(x: pd.Series, plot=False):\n",
    "    contagem = x.value_counts()\n",
    "    percentual = round((x.value_counts() / x.shape[0]) * 100, 3)\n",
    "    res = pd.DataFrame({'Qtd.': contagem, 'Percentual': percentual})\n",
    "    if plot:\n",
    "      plt.show()\n",
    "    return res.sort_values('Percentual',ascending=False)"
   ]
  },
  {
   "cell_type": "markdown",
   "metadata": {
    "id": "bc5oXXc1iGIM"
   },
   "source": [
    "# 5.1 - Agrupamento de ocorrências por fase do dia"
   ]
  },
  {
   "cell_type": "code",
   "execution_count": 24,
   "metadata": {
    "colab": {
     "base_uri": "https://localhost:8080/",
     "height": 732
    },
    "id": "ty418750CDtN",
    "outputId": "349c4895-03e7-4de8-ffb0-584a027e0cb5"
   },
   "outputs": [
    {
     "name": "stdout",
     "output_type": "stream",
     "text": [
      "               Qtd.  Percentual\n",
      "Pleno dia    182200      54.935\n",
      "Plena Noite  114176      34.425\n",
      "Anoitecer     18741       5.651\n",
      "Amanhecer     16549       4.990\n"
     ]
    },
    {
     "data": {
      "text/plain": [
       "Text(0, 0.5, ' ')"
      ]
     },
     "execution_count": 24,
     "metadata": {
      "tags": []
     },
     "output_type": "execute_result"
    },
    {
     "data": {
      "image/png": "[encoded data removed]",
      "text/plain": [
       "<Figure size 1440x720 with 1 Axes>"
      ]
     },
     "metadata": {
      "needs_background": "light",
      "tags": []
     },
     "output_type": "display_data"
    }
   ],
   "source": [
    "print(freq(df.fase_dia, plot=True))\n",
    "plt.figure(figsize=(20,10))\n",
    "sns.countplot(df.fase_dia.sort_values(ascending=False),palette=\"Blues_d\")\n",
    "plt.title('Quantidade de mortos por fase do dia',fontsize=20)\n",
    "plt.xlabel('Fase do dia',fontsize=15)\n",
    "plt.ylabel(' ', fontsize=15)"
   ]
  },
  {
   "cell_type": "markdown",
   "metadata": {
    "id": "2PoDRbfmiOrb"
   },
   "source": [
    "# 5.2 - Ranking do percentual de ocorrências por estado"
   ]
  },
  {
   "cell_type": "code",
   "execution_count": 25,
   "metadata": {
    "colab": {
     "base_uri": "https://localhost:8080/",
     "height": 345
    },
    "id": "HhCgvpl5CDtR",
    "outputId": "5c7b4672-816c-4ff7-9377-6738ed35b09c"
   },
   "outputs": [
    {
     "data": {
      "text/html": [
       "<div>\n",
       "<style scoped>\n",
       "    .dataframe tbody tr th:only-of-type {\n",
       "        vertical-align: middle;\n",
       "    }\n",
       "\n",
       "    .dataframe tbody tr th {\n",
       "        vertical-align: top;\n",
       "    }\n",
       "\n",
       "    .dataframe thead th {\n",
       "        text-align: right;\n",
       "    }\n",
       "</style>\n",
       "<table border=\"1\" class=\"dataframe\">\n",
       "  <thead>\n",
       "    <tr style=\"text-align: right;\">\n",
       "      <th></th>\n",
       "      <th>Qtd.</th>\n",
       "      <th>Percentual</th>\n",
       "    </tr>\n",
       "  </thead>\n",
       "  <tbody>\n",
       "    <tr>\n",
       "      <th>MG</th>\n",
       "      <td>45970</td>\n",
       "      <td>13.860</td>\n",
       "    </tr>\n",
       "    <tr>\n",
       "      <th>PR</th>\n",
       "      <td>39521</td>\n",
       "      <td>11.916</td>\n",
       "    </tr>\n",
       "    <tr>\n",
       "      <th>SC</th>\n",
       "      <td>35823</td>\n",
       "      <td>10.801</td>\n",
       "    </tr>\n",
       "    <tr>\n",
       "      <th>RS</th>\n",
       "      <td>23681</td>\n",
       "      <td>7.140</td>\n",
       "    </tr>\n",
       "    <tr>\n",
       "      <th>SP</th>\n",
       "      <td>20574</td>\n",
       "      <td>6.203</td>\n",
       "    </tr>\n",
       "    <tr>\n",
       "      <th>BA</th>\n",
       "      <td>18474</td>\n",
       "      <td>5.570</td>\n",
       "    </tr>\n",
       "    <tr>\n",
       "      <th>RJ</th>\n",
       "      <td>18016</td>\n",
       "      <td>5.432</td>\n",
       "    </tr>\n",
       "    <tr>\n",
       "      <th>GO</th>\n",
       "      <td>18004</td>\n",
       "      <td>5.428</td>\n",
       "    </tr>\n",
       "    <tr>\n",
       "      <th>MT</th>\n",
       "      <td>12784</td>\n",
       "      <td>3.854</td>\n",
       "    </tr>\n",
       "    <tr>\n",
       "      <th>PE</th>\n",
       "      <td>11505</td>\n",
       "      <td>3.469</td>\n",
       "    </tr>\n",
       "  </tbody>\n",
       "</table>\n",
       "</div>"
      ],
      "text/plain": [
       "     Qtd.  Percentual\n",
       "MG  45970      13.860\n",
       "PR  39521      11.916\n",
       "SC  35823      10.801\n",
       "RS  23681       7.140\n",
       "SP  20574       6.203\n",
       "BA  18474       5.570\n",
       "RJ  18016       5.432\n",
       "GO  18004       5.428\n",
       "MT  12784       3.854\n",
       "PE  11505       3.469"
      ]
     },
     "execution_count": 25,
     "metadata": {
      "tags": []
     },
     "output_type": "execute_result"
    }
   ],
   "source": [
    "freq(df.uf, plot=True).head(10)"
   ]
  },
  {
   "cell_type": "markdown",
   "metadata": {
    "id": "cNMGY-_LiU5x"
   },
   "source": [
    "# 5.3 - Ranking do percentual de ocorrências por condição metereologica"
   ]
  },
  {
   "cell_type": "code",
   "execution_count": 26,
   "metadata": {
    "colab": {
     "base_uri": "https://localhost:8080/",
     "height": 345
    },
    "id": "thnUk-BGCDtU",
    "outputId": "509a3f76-0a1a-474f-9940-ea637ae6b251"
   },
   "outputs": [
    {
     "data": {
      "text/html": [
       "<div>\n",
       "<style scoped>\n",
       "    .dataframe tbody tr th:only-of-type {\n",
       "        vertical-align: middle;\n",
       "    }\n",
       "\n",
       "    .dataframe tbody tr th {\n",
       "        vertical-align: top;\n",
       "    }\n",
       "\n",
       "    .dataframe thead th {\n",
       "        text-align: right;\n",
       "    }\n",
       "</style>\n",
       "<table border=\"1\" class=\"dataframe\">\n",
       "  <thead>\n",
       "    <tr style=\"text-align: right;\">\n",
       "      <th></th>\n",
       "      <th>Qtd.</th>\n",
       "      <th>Percentual</th>\n",
       "    </tr>\n",
       "  </thead>\n",
       "  <tbody>\n",
       "    <tr>\n",
       "      <th>Céu Claro</th>\n",
       "      <td>188447</td>\n",
       "      <td>56.818</td>\n",
       "    </tr>\n",
       "    <tr>\n",
       "      <th>Nublado</th>\n",
       "      <td>56584</td>\n",
       "      <td>17.061</td>\n",
       "    </tr>\n",
       "    <tr>\n",
       "      <th>Chuva</th>\n",
       "      <td>39470</td>\n",
       "      <td>11.901</td>\n",
       "    </tr>\n",
       "    <tr>\n",
       "      <th>Sol</th>\n",
       "      <td>26334</td>\n",
       "      <td>7.940</td>\n",
       "    </tr>\n",
       "    <tr>\n",
       "      <th>Garoa/Chuvisco</th>\n",
       "      <td>12222</td>\n",
       "      <td>3.685</td>\n",
       "    </tr>\n",
       "    <tr>\n",
       "      <th>Nevoeiro/Neblina</th>\n",
       "      <td>4036</td>\n",
       "      <td>1.217</td>\n",
       "    </tr>\n",
       "    <tr>\n",
       "      <th>Ignorado</th>\n",
       "      <td>3969</td>\n",
       "      <td>1.197</td>\n",
       "    </tr>\n",
       "    <tr>\n",
       "      <th>Vento</th>\n",
       "      <td>587</td>\n",
       "      <td>0.177</td>\n",
       "    </tr>\n",
       "    <tr>\n",
       "      <th>Granizo</th>\n",
       "      <td>16</td>\n",
       "      <td>0.005</td>\n",
       "    </tr>\n",
       "    <tr>\n",
       "      <th>Neve</th>\n",
       "      <td>1</td>\n",
       "      <td>0.000</td>\n",
       "    </tr>\n",
       "  </tbody>\n",
       "</table>\n",
       "</div>"
      ],
      "text/plain": [
       "                    Qtd.  Percentual\n",
       "Céu Claro         188447      56.818\n",
       "Nublado            56584      17.061\n",
       "Chuva              39470      11.901\n",
       "Sol                26334       7.940\n",
       "Garoa/Chuvisco     12222       3.685\n",
       "Nevoeiro/Neblina    4036       1.217\n",
       "Ignorado            3969       1.197\n",
       "Vento                587       0.177\n",
       "Granizo               16       0.005\n",
       "Neve                   1       0.000"
      ]
     },
     "execution_count": 26,
     "metadata": {
      "tags": []
     },
     "output_type": "execute_result"
    }
   ],
   "source": [
    "freq(df.condicao_metereologica, plot=True).head(10)"
   ]
  },
  {
   "cell_type": "markdown",
   "metadata": {
    "id": "ma9DpC7Xia7W"
   },
   "source": [
    "# 5.4 - Ranking do percentual de causa de acidentes\n"
   ]
  },
  {
   "cell_type": "code",
   "execution_count": 27,
   "metadata": {
    "colab": {
     "base_uri": "https://localhost:8080/",
     "height": 345
    },
    "id": "ZBAooKnAc2d3",
    "outputId": "ce7134f7-eda8-4660-8159-1bd6860f2631"
   },
   "outputs": [
    {
     "data": {
      "text/html": [
       "<div>\n",
       "<style scoped>\n",
       "    .dataframe tbody tr th:only-of-type {\n",
       "        vertical-align: middle;\n",
       "    }\n",
       "\n",
       "    .dataframe tbody tr th {\n",
       "        vertical-align: top;\n",
       "    }\n",
       "\n",
       "    .dataframe thead th {\n",
       "        text-align: right;\n",
       "    }\n",
       "</style>\n",
       "<table border=\"1\" class=\"dataframe\">\n",
       "  <thead>\n",
       "    <tr style=\"text-align: right;\">\n",
       "      <th></th>\n",
       "      <th>Qtd.</th>\n",
       "      <th>Percentual</th>\n",
       "    </tr>\n",
       "  </thead>\n",
       "  <tbody>\n",
       "    <tr>\n",
       "      <th>Falta de Atenção à Condução</th>\n",
       "      <td>109288</td>\n",
       "      <td>32.951</td>\n",
       "    </tr>\n",
       "    <tr>\n",
       "      <th>Desobediência às normas de trânsito pelo condutor</th>\n",
       "      <td>44594</td>\n",
       "      <td>13.445</td>\n",
       "    </tr>\n",
       "    <tr>\n",
       "      <th>Velocidade Incompatível</th>\n",
       "      <td>39619</td>\n",
       "      <td>11.945</td>\n",
       "    </tr>\n",
       "    <tr>\n",
       "      <th>Não guardar distância de segurança</th>\n",
       "      <td>25773</td>\n",
       "      <td>7.771</td>\n",
       "    </tr>\n",
       "    <tr>\n",
       "      <th>Ingestão de Álcool</th>\n",
       "      <td>23081</td>\n",
       "      <td>6.959</td>\n",
       "    </tr>\n",
       "    <tr>\n",
       "      <th>Defeito Mecânico no Veículo</th>\n",
       "      <td>13461</td>\n",
       "      <td>4.059</td>\n",
       "    </tr>\n",
       "    <tr>\n",
       "      <th>Pista Escorregadia</th>\n",
       "      <td>11434</td>\n",
       "      <td>3.447</td>\n",
       "    </tr>\n",
       "    <tr>\n",
       "      <th>Condutor Dormindo</th>\n",
       "      <td>11218</td>\n",
       "      <td>3.382</td>\n",
       "    </tr>\n",
       "    <tr>\n",
       "      <th>Ultrapassagem Indevida</th>\n",
       "      <td>9304</td>\n",
       "      <td>2.805</td>\n",
       "    </tr>\n",
       "    <tr>\n",
       "      <th>Falta de Atenção do Pedestre</th>\n",
       "      <td>6265</td>\n",
       "      <td>1.889</td>\n",
       "    </tr>\n",
       "  </tbody>\n",
       "</table>\n",
       "</div>"
      ],
      "text/plain": [
       "                                                     Qtd.  Percentual\n",
       "Falta de Atenção à Condução                        109288      32.951\n",
       "Desobediência às normas de trânsito pelo condutor   44594      13.445\n",
       "Velocidade Incompatível                             39619      11.945\n",
       "Não guardar distância de segurança                  25773       7.771\n",
       "Ingestão de Álcool                                  23081       6.959\n",
       "Defeito Mecânico no Veículo                         13461       4.059\n",
       "Pista Escorregadia                                  11434       3.447\n",
       "Condutor Dormindo                                   11218       3.382\n",
       "Ultrapassagem Indevida                               9304       2.805\n",
       "Falta de Atenção do Pedestre                         6265       1.889"
      ]
     },
     "execution_count": 27,
     "metadata": {
      "tags": []
     },
     "output_type": "execute_result"
    }
   ],
   "source": [
    "freq(df.causa_acidente, plot=True).head(10)"
   ]
  },
  {
   "cell_type": "markdown",
   "metadata": {
    "id": "RE0_R1e8imGV"
   },
   "source": [
    "# 5.5 - Ranking do percentual de tipo de acidente\n"
   ]
  },
  {
   "cell_type": "code",
   "execution_count": 28,
   "metadata": {
    "colab": {
     "base_uri": "https://localhost:8080/",
     "height": 345
    },
    "id": "MNWnqHiqc2Bl",
    "outputId": "49b515b6-caac-40ed-950d-4d23725a7593"
   },
   "outputs": [
    {
     "data": {
      "text/html": [
       "<div>\n",
       "<style scoped>\n",
       "    .dataframe tbody tr th:only-of-type {\n",
       "        vertical-align: middle;\n",
       "    }\n",
       "\n",
       "    .dataframe tbody tr th {\n",
       "        vertical-align: top;\n",
       "    }\n",
       "\n",
       "    .dataframe thead th {\n",
       "        text-align: right;\n",
       "    }\n",
       "</style>\n",
       "<table border=\"1\" class=\"dataframe\">\n",
       "  <thead>\n",
       "    <tr style=\"text-align: right;\">\n",
       "      <th></th>\n",
       "      <th>Qtd.</th>\n",
       "      <th>Percentual</th>\n",
       "    </tr>\n",
       "  </thead>\n",
       "  <tbody>\n",
       "    <tr>\n",
       "      <th>Colisão traseira</th>\n",
       "      <td>59084</td>\n",
       "      <td>17.814</td>\n",
       "    </tr>\n",
       "    <tr>\n",
       "      <th>Saída de leito carroçável</th>\n",
       "      <td>43242</td>\n",
       "      <td>13.038</td>\n",
       "    </tr>\n",
       "    <tr>\n",
       "      <th>Colisão lateral</th>\n",
       "      <td>36249</td>\n",
       "      <td>10.929</td>\n",
       "    </tr>\n",
       "    <tr>\n",
       "      <th>Colisão transversal</th>\n",
       "      <td>32835</td>\n",
       "      <td>9.900</td>\n",
       "    </tr>\n",
       "    <tr>\n",
       "      <th>Tombamento</th>\n",
       "      <td>31960</td>\n",
       "      <td>9.636</td>\n",
       "    </tr>\n",
       "    <tr>\n",
       "      <th>Colisão frontal</th>\n",
       "      <td>26398</td>\n",
       "      <td>7.959</td>\n",
       "    </tr>\n",
       "    <tr>\n",
       "      <th>Colisão com objeto estático</th>\n",
       "      <td>25944</td>\n",
       "      <td>7.822</td>\n",
       "    </tr>\n",
       "    <tr>\n",
       "      <th>Queda de ocupante de veículo</th>\n",
       "      <td>22886</td>\n",
       "      <td>6.900</td>\n",
       "    </tr>\n",
       "    <tr>\n",
       "      <th>Capotamento</th>\n",
       "      <td>20585</td>\n",
       "      <td>6.207</td>\n",
       "    </tr>\n",
       "    <tr>\n",
       "      <th>Atropelamento de Pedestre</th>\n",
       "      <td>12590</td>\n",
       "      <td>3.796</td>\n",
       "    </tr>\n",
       "  </tbody>\n",
       "</table>\n",
       "</div>"
      ],
      "text/plain": [
       "                               Qtd.  Percentual\n",
       "Colisão traseira              59084      17.814\n",
       "Saída de leito carroçável     43242      13.038\n",
       "Colisão lateral               36249      10.929\n",
       "Colisão transversal           32835       9.900\n",
       "Tombamento                    31960       9.636\n",
       "Colisão frontal               26398       7.959\n",
       "Colisão com objeto estático   25944       7.822\n",
       "Queda de ocupante de veículo  22886       6.900\n",
       "Capotamento                   20585       6.207\n",
       "Atropelamento de Pedestre     12590       3.796"
      ]
     },
     "execution_count": 28,
     "metadata": {
      "tags": []
     },
     "output_type": "execute_result"
    }
   ],
   "source": [
    "freq(df.tipo_acidente, plot=True).head(10)"
   ]
  },
  {
   "cell_type": "markdown",
   "metadata": {
    "id": "f4dYvKT7iwSi"
   },
   "source": [
    "# 5.6 - Ranking de ocorrência por tipo de via"
   ]
  },
  {
   "cell_type": "code",
   "execution_count": 29,
   "metadata": {
    "colab": {
     "base_uri": "https://localhost:8080/",
     "height": 137
    },
    "id": "P9qw3AL4c5sO",
    "outputId": "e68463fd-df79-42ef-a489-515d502f3ffc"
   },
   "outputs": [
    {
     "data": {
      "text/html": [
       "<div>\n",
       "<style scoped>\n",
       "    .dataframe tbody tr th:only-of-type {\n",
       "        vertical-align: middle;\n",
       "    }\n",
       "\n",
       "    .dataframe tbody tr th {\n",
       "        vertical-align: top;\n",
       "    }\n",
       "\n",
       "    .dataframe thead th {\n",
       "        text-align: right;\n",
       "    }\n",
       "</style>\n",
       "<table border=\"1\" class=\"dataframe\">\n",
       "  <thead>\n",
       "    <tr style=\"text-align: right;\">\n",
       "      <th></th>\n",
       "      <th>Qtd.</th>\n",
       "      <th>Percentual</th>\n",
       "    </tr>\n",
       "  </thead>\n",
       "  <tbody>\n",
       "    <tr>\n",
       "      <th>Simples</th>\n",
       "      <td>179008</td>\n",
       "      <td>53.972</td>\n",
       "    </tr>\n",
       "    <tr>\n",
       "      <th>Dupla</th>\n",
       "      <td>127712</td>\n",
       "      <td>38.506</td>\n",
       "    </tr>\n",
       "    <tr>\n",
       "      <th>Múltipla</th>\n",
       "      <td>24946</td>\n",
       "      <td>7.521</td>\n",
       "    </tr>\n",
       "  </tbody>\n",
       "</table>\n",
       "</div>"
      ],
      "text/plain": [
       "            Qtd.  Percentual\n",
       "Simples   179008      53.972\n",
       "Dupla     127712      38.506\n",
       "Múltipla   24946       7.521"
      ]
     },
     "execution_count": 29,
     "metadata": {
      "tags": []
     },
     "output_type": "execute_result"
    }
   ],
   "source": [
    "freq(df.tipo_pista, plot=True)"
   ]
  },
  {
   "cell_type": "markdown",
   "metadata": {
    "id": "6yis_2zQi_TJ"
   },
   "source": [
    "# 5.7 - Ranking de ocorrência por tipo de traçado da via"
   ]
  },
  {
   "cell_type": "code",
   "execution_count": 30,
   "metadata": {
    "colab": {
     "base_uri": "https://localhost:8080/",
     "height": 345
    },
    "id": "wk_SNe9Xc7Dg",
    "outputId": "7dbf7691-134c-4d64-856e-03ef28dd82fd"
   },
   "outputs": [
    {
     "data": {
      "text/html": [
       "<div>\n",
       "<style scoped>\n",
       "    .dataframe tbody tr th:only-of-type {\n",
       "        vertical-align: middle;\n",
       "    }\n",
       "\n",
       "    .dataframe tbody tr th {\n",
       "        vertical-align: top;\n",
       "    }\n",
       "\n",
       "    .dataframe thead th {\n",
       "        text-align: right;\n",
       "    }\n",
       "</style>\n",
       "<table border=\"1\" class=\"dataframe\">\n",
       "  <thead>\n",
       "    <tr style=\"text-align: right;\">\n",
       "      <th></th>\n",
       "      <th>Qtd.</th>\n",
       "      <th>Percentual</th>\n",
       "    </tr>\n",
       "  </thead>\n",
       "  <tbody>\n",
       "    <tr>\n",
       "      <th>Reta</th>\n",
       "      <td>197020</td>\n",
       "      <td>59.403</td>\n",
       "    </tr>\n",
       "    <tr>\n",
       "      <th>Curva</th>\n",
       "      <td>50260</td>\n",
       "      <td>15.154</td>\n",
       "    </tr>\n",
       "    <tr>\n",
       "      <th>Não Informado</th>\n",
       "      <td>47083</td>\n",
       "      <td>14.196</td>\n",
       "    </tr>\n",
       "    <tr>\n",
       "      <th>Interseção de vias</th>\n",
       "      <td>13634</td>\n",
       "      <td>4.111</td>\n",
       "    </tr>\n",
       "    <tr>\n",
       "      <th>Desvio Temporário</th>\n",
       "      <td>10355</td>\n",
       "      <td>3.122</td>\n",
       "    </tr>\n",
       "    <tr>\n",
       "      <th>Rotatória</th>\n",
       "      <td>5500</td>\n",
       "      <td>1.658</td>\n",
       "    </tr>\n",
       "    <tr>\n",
       "      <th>Retorno Regulamentado</th>\n",
       "      <td>3654</td>\n",
       "      <td>1.102</td>\n",
       "    </tr>\n",
       "    <tr>\n",
       "      <th>Ponte</th>\n",
       "      <td>1992</td>\n",
       "      <td>0.601</td>\n",
       "    </tr>\n",
       "    <tr>\n",
       "      <th>Viaduto</th>\n",
       "      <td>1819</td>\n",
       "      <td>0.548</td>\n",
       "    </tr>\n",
       "    <tr>\n",
       "      <th>Túnel</th>\n",
       "      <td>349</td>\n",
       "      <td>0.105</td>\n",
       "    </tr>\n",
       "  </tbody>\n",
       "</table>\n",
       "</div>"
      ],
      "text/plain": [
       "                         Qtd.  Percentual\n",
       "Reta                   197020      59.403\n",
       "Curva                   50260      15.154\n",
       "Não Informado           47083      14.196\n",
       "Interseção de vias      13634       4.111\n",
       "Desvio Temporário       10355       3.122\n",
       "Rotatória                5500       1.658\n",
       "Retorno Regulamentado    3654       1.102\n",
       "Ponte                    1992       0.601\n",
       "Viaduto                  1819       0.548\n",
       "Túnel                     349       0.105"
      ]
     },
     "execution_count": 30,
     "metadata": {
      "tags": []
     },
     "output_type": "execute_result"
    }
   ],
   "source": [
    "freq(df.tracado_via, plot=True)"
   ]
  },
  {
   "cell_type": "markdown",
   "metadata": {
    "id": "C4c-uS7WnYYJ"
   },
   "source": [
    "# 6 - Hipóteses ML\n",
    "<!-- - Regressão por séries temporais -->\n",
    "- Probabilidade de acidentes acontecerem, dado certas informações.\n",
    "- Iremos prever os riscos de acidentes baseado nos parâmetros de entrada.\n",
    "- Pretendemos usar rede neural perceptron de multiplas camadas para encontrar probabilidade de acidentes acontecerem, dado certas informações.\n",
    "  - Entrada\n",
    "    - BR\n",
    "    - Idade\n",
    "    - Município\n",
    "    - Fase Dia    \n",
    "    - Condicao Metereológica\n",
    "    - Dia Semana\n",
    "  - Saída\n",
    "    - Previsão da quantidade de acidentes baseando-se nos dados inseridos.\n",
    "    - Sendo um percentual (Previsão / Somatório de acidentes do dataset).\n",
    "    - Com isso intervalos de percentual serão dividos para classificar a\n",
    "periculosidade do trecho.\n",
    "    "
   ]
  },
  {
   "cell_type": "markdown",
   "metadata": {
    "id": "x17shlEKW9uL"
   },
   "source": [
    "<div style='border-bottom:2px solid red;width:100%;height:100%;'></div>"
   ]
  },
  {
   "cell_type": "markdown",
   "metadata": {
    "id": "rDRiKma9W9uL"
   },
   "source": [
    "# Etapa 2 - Aplicação de modelos de regressão"
   ]
  },
  {
   "cell_type": "markdown",
   "metadata": {
    "id": "YiOeQ2Yc17b6"
   },
   "source": [
    "# 1 - Regressão Linear"
   ]
  },
  {
   "cell_type": "code",
   "execution_count": 9,
   "metadata": {
    "id": "rI4To7V017b6"
   },
   "outputs": [],
   "source": [
    "df_aux = df.copy()\n",
    "\n",
    "df_aux.dia_semana.replace(\n",
    "        {i:j+1 for i,j in zip(df['dia_semana'].unique(),range(df['dia_semana'].unique().shape[0]))},\n",
    "        inplace=True)\n",
    "df_aux.municipio.replace(\n",
    "    {i:j+1 for i,j in zip(df.municipio.unique(),range(df.municipio.unique().shape[0]))},\n",
    "    inplace=True)\n",
    "df_aux.condicao_metereologica.replace(\n",
    "    {i:j+1 for i,j in zip(df.condicao_metereologica.unique(),range(df.condicao_metereologica.unique().shape[0]))},\n",
    "    inplace=True)\n",
    "df_aux['fase_dia'].replace(\n",
    "    {i:j+1 for i,j in zip(df['fase_dia'].unique(),range(4))},\n",
    "    inplace=True)\n",
    "df_remove = df_aux.loc[(df['br'] == 0) | (df['idade'] == 0) | (df['condicao_metereologica'] == \"Ignorado\")]\n",
    "# df_remove = df_remove.loc[(df['condicao_metereologica'] == \"Ignorado\")]\n",
    "df_novo = df_aux.drop(df_remove.index)"
   ]
  },
  {
   "cell_type": "code",
   "execution_count": 10,
   "metadata": {
    "colab": {
     "base_uri": "https://localhost:8080/",
     "height": 759
    },
    "id": "u24RaCxn17b9",
    "outputId": "2fef712f-1d70-44a2-ccd8-2f6016df3efb"
   },
   "outputs": [
    {
     "data": {
      "text/html": [
       "<div>\n",
       "<style scoped>\n",
       "    .dataframe tbody tr th:only-of-type {\n",
       "        vertical-align: middle;\n",
       "    }\n",
       "\n",
       "    .dataframe tbody tr th {\n",
       "        vertical-align: top;\n",
       "    }\n",
       "\n",
       "    .dataframe thead th {\n",
       "        text-align: right;\n",
       "    }\n",
       "</style>\n",
       "<table border=\"1\" class=\"dataframe\">\n",
       "  <thead>\n",
       "    <tr style=\"text-align: right;\">\n",
       "      <th></th>\n",
       "      <th>id</th>\n",
       "      <th>pesid</th>\n",
       "      <th>data_inversa</th>\n",
       "      <th>dia_semana</th>\n",
       "      <th>horario</th>\n",
       "      <th>uf</th>\n",
       "      <th>br</th>\n",
       "      <th>km</th>\n",
       "      <th>municipio</th>\n",
       "      <th>causa_principal</th>\n",
       "      <th>...</th>\n",
       "      <th>sexo</th>\n",
       "      <th>ilesos</th>\n",
       "      <th>feridos_leves</th>\n",
       "      <th>feridos_graves</th>\n",
       "      <th>mortos</th>\n",
       "      <th>latitude</th>\n",
       "      <th>longitude</th>\n",
       "      <th>regional</th>\n",
       "      <th>delegacia</th>\n",
       "      <th>uop</th>\n",
       "    </tr>\n",
       "  </thead>\n",
       "  <tbody>\n",
       "    <tr>\n",
       "      <th>0</th>\n",
       "      <td>182210.0</td>\n",
       "      <td>402103</td>\n",
       "      <td>2019-01-01</td>\n",
       "      <td>1</td>\n",
       "      <td>2020-10-04 01:30:00</td>\n",
       "      <td>SP</td>\n",
       "      <td>116.0</td>\n",
       "      <td>218</td>\n",
       "      <td>1</td>\n",
       "      <td>Sim</td>\n",
       "      <td>...</td>\n",
       "      <td>Masculino</td>\n",
       "      <td>0</td>\n",
       "      <td>1</td>\n",
       "      <td>0</td>\n",
       "      <td>0</td>\n",
       "      <td>-23,46052014</td>\n",
       "      <td>-46,48772478</td>\n",
       "      <td>SR-SP</td>\n",
       "      <td>DEL6/1</td>\n",
       "      <td>UOP01/SP</td>\n",
       "    </tr>\n",
       "    <tr>\n",
       "      <th>1</th>\n",
       "      <td>182210.0</td>\n",
       "      <td>402106</td>\n",
       "      <td>2019-01-01</td>\n",
       "      <td>1</td>\n",
       "      <td>2020-10-04 01:30:00</td>\n",
       "      <td>SP</td>\n",
       "      <td>116.0</td>\n",
       "      <td>218</td>\n",
       "      <td>1</td>\n",
       "      <td>Sim</td>\n",
       "      <td>...</td>\n",
       "      <td>Masculino</td>\n",
       "      <td>0</td>\n",
       "      <td>1</td>\n",
       "      <td>0</td>\n",
       "      <td>0</td>\n",
       "      <td>-23,46052014</td>\n",
       "      <td>-46,48772478</td>\n",
       "      <td>SR-SP</td>\n",
       "      <td>DEL6/1</td>\n",
       "      <td>UOP01/SP</td>\n",
       "    </tr>\n",
       "    <tr>\n",
       "      <th>2</th>\n",
       "      <td>182210.0</td>\n",
       "      <td>402104</td>\n",
       "      <td>2019-01-01</td>\n",
       "      <td>1</td>\n",
       "      <td>2020-10-04 01:30:00</td>\n",
       "      <td>SP</td>\n",
       "      <td>116.0</td>\n",
       "      <td>218</td>\n",
       "      <td>1</td>\n",
       "      <td>Sim</td>\n",
       "      <td>...</td>\n",
       "      <td>Feminino</td>\n",
       "      <td>0</td>\n",
       "      <td>1</td>\n",
       "      <td>0</td>\n",
       "      <td>0</td>\n",
       "      <td>-23,46052014</td>\n",
       "      <td>-46,48772478</td>\n",
       "      <td>SR-SP</td>\n",
       "      <td>DEL6/1</td>\n",
       "      <td>UOP01/SP</td>\n",
       "    </tr>\n",
       "    <tr>\n",
       "      <th>3</th>\n",
       "      <td>182210.0</td>\n",
       "      <td>402102</td>\n",
       "      <td>2019-01-01</td>\n",
       "      <td>1</td>\n",
       "      <td>2020-10-04 01:30:00</td>\n",
       "      <td>SP</td>\n",
       "      <td>116.0</td>\n",
       "      <td>218</td>\n",
       "      <td>1</td>\n",
       "      <td>Sim</td>\n",
       "      <td>...</td>\n",
       "      <td>Masculino</td>\n",
       "      <td>0</td>\n",
       "      <td>1</td>\n",
       "      <td>0</td>\n",
       "      <td>0</td>\n",
       "      <td>-23,46052014</td>\n",
       "      <td>-46,48772478</td>\n",
       "      <td>SR-SP</td>\n",
       "      <td>DEL6/1</td>\n",
       "      <td>UOP01/SP</td>\n",
       "    </tr>\n",
       "    <tr>\n",
       "      <th>4</th>\n",
       "      <td>182211.0</td>\n",
       "      <td>402126</td>\n",
       "      <td>2019-01-01</td>\n",
       "      <td>1</td>\n",
       "      <td>2020-10-04 01:30:00</td>\n",
       "      <td>PR</td>\n",
       "      <td>373.0</td>\n",
       "      <td>177,3</td>\n",
       "      <td>2</td>\n",
       "      <td>Sim</td>\n",
       "      <td>...</td>\n",
       "      <td>Masculino</td>\n",
       "      <td>0</td>\n",
       "      <td>1</td>\n",
       "      <td>0</td>\n",
       "      <td>0</td>\n",
       "      <td>-25,05533957</td>\n",
       "      <td>-50,22776753</td>\n",
       "      <td>SR-PR</td>\n",
       "      <td>DEL7/3</td>\n",
       "      <td>UOP01/PR</td>\n",
       "    </tr>\n",
       "    <tr>\n",
       "      <th>...</th>\n",
       "      <td>...</td>\n",
       "      <td>...</td>\n",
       "      <td>...</td>\n",
       "      <td>...</td>\n",
       "      <td>...</td>\n",
       "      <td>...</td>\n",
       "      <td>...</td>\n",
       "      <td>...</td>\n",
       "      <td>...</td>\n",
       "      <td>...</td>\n",
       "      <td>...</td>\n",
       "      <td>...</td>\n",
       "      <td>...</td>\n",
       "      <td>...</td>\n",
       "      <td>...</td>\n",
       "      <td>...</td>\n",
       "      <td>...</td>\n",
       "      <td>...</td>\n",
       "      <td>...</td>\n",
       "      <td>...</td>\n",
       "      <td>...</td>\n",
       "    </tr>\n",
       "    <tr>\n",
       "      <th>331655</th>\n",
       "      <td>266162.0</td>\n",
       "      <td>593489</td>\n",
       "      <td>2019-12-24</td>\n",
       "      <td>1</td>\n",
       "      <td>2020-10-04 16:10:00</td>\n",
       "      <td>MG</td>\n",
       "      <td>267.0</td>\n",
       "      <td>231</td>\n",
       "      <td>801</td>\n",
       "      <td>Sim</td>\n",
       "      <td>...</td>\n",
       "      <td>Masculino</td>\n",
       "      <td>0</td>\n",
       "      <td>1</td>\n",
       "      <td>0</td>\n",
       "      <td>0</td>\n",
       "      <td>-21,94947166</td>\n",
       "      <td>-44,33481086</td>\n",
       "      <td>SR-MG</td>\n",
       "      <td>DEL5</td>\n",
       "      <td>UOP03/MG</td>\n",
       "    </tr>\n",
       "    <tr>\n",
       "      <th>331659</th>\n",
       "      <td>266406.0</td>\n",
       "      <td>593903</td>\n",
       "      <td>2019-11-25</td>\n",
       "      <td>7</td>\n",
       "      <td>2020-10-04 07:20:00</td>\n",
       "      <td>PR</td>\n",
       "      <td>116.0</td>\n",
       "      <td>125</td>\n",
       "      <td>450</td>\n",
       "      <td>Sim</td>\n",
       "      <td>...</td>\n",
       "      <td>Masculino</td>\n",
       "      <td>1</td>\n",
       "      <td>0</td>\n",
       "      <td>0</td>\n",
       "      <td>0</td>\n",
       "      <td>-25,59505309</td>\n",
       "      <td>-49,31630659</td>\n",
       "      <td>SR-PR</td>\n",
       "      <td>DEL7/1</td>\n",
       "      <td>UOP03/PR</td>\n",
       "    </tr>\n",
       "    <tr>\n",
       "      <th>331660</th>\n",
       "      <td>266406.0</td>\n",
       "      <td>593902</td>\n",
       "      <td>2019-11-25</td>\n",
       "      <td>7</td>\n",
       "      <td>2020-10-04 07:20:00</td>\n",
       "      <td>PR</td>\n",
       "      <td>116.0</td>\n",
       "      <td>125</td>\n",
       "      <td>450</td>\n",
       "      <td>Sim</td>\n",
       "      <td>...</td>\n",
       "      <td>Masculino</td>\n",
       "      <td>0</td>\n",
       "      <td>1</td>\n",
       "      <td>0</td>\n",
       "      <td>0</td>\n",
       "      <td>-25,59505309</td>\n",
       "      <td>-49,31630659</td>\n",
       "      <td>SR-PR</td>\n",
       "      <td>DEL7/1</td>\n",
       "      <td>UOP03/PR</td>\n",
       "    </tr>\n",
       "    <tr>\n",
       "      <th>331661</th>\n",
       "      <td>266434.0</td>\n",
       "      <td>593948</td>\n",
       "      <td>2019-06-03</td>\n",
       "      <td>7</td>\n",
       "      <td>2020-10-04 19:00:00</td>\n",
       "      <td>CE</td>\n",
       "      <td>222.0</td>\n",
       "      <td>1,4</td>\n",
       "      <td>95</td>\n",
       "      <td>Sim</td>\n",
       "      <td>...</td>\n",
       "      <td>Masculino</td>\n",
       "      <td>0</td>\n",
       "      <td>0</td>\n",
       "      <td>1</td>\n",
       "      <td>0</td>\n",
       "      <td>-3,736507</td>\n",
       "      <td>-38,65337</td>\n",
       "      <td>SR-CE</td>\n",
       "      <td>DEL16/1</td>\n",
       "      <td>UOP01/CE</td>\n",
       "    </tr>\n",
       "    <tr>\n",
       "      <th>331662</th>\n",
       "      <td>266434.0</td>\n",
       "      <td>593947</td>\n",
       "      <td>2019-06-03</td>\n",
       "      <td>7</td>\n",
       "      <td>2020-10-04 19:00:00</td>\n",
       "      <td>CE</td>\n",
       "      <td>222.0</td>\n",
       "      <td>1,4</td>\n",
       "      <td>95</td>\n",
       "      <td>Sim</td>\n",
       "      <td>...</td>\n",
       "      <td>Masculino</td>\n",
       "      <td>1</td>\n",
       "      <td>0</td>\n",
       "      <td>0</td>\n",
       "      <td>0</td>\n",
       "      <td>-3,736507</td>\n",
       "      <td>-38,65337</td>\n",
       "      <td>SR-CE</td>\n",
       "      <td>DEL16/1</td>\n",
       "      <td>UOP01/CE</td>\n",
       "    </tr>\n",
       "  </tbody>\n",
       "</table>\n",
       "<p>265895 rows × 37 columns</p>\n",
       "</div>"
      ],
      "text/plain": [
       "              id   pesid data_inversa  dia_semana             horario  uf  \\\n",
       "0       182210.0  402103   2019-01-01           1 2020-10-04 01:30:00  SP   \n",
       "1       182210.0  402106   2019-01-01           1 2020-10-04 01:30:00  SP   \n",
       "2       182210.0  402104   2019-01-01           1 2020-10-04 01:30:00  SP   \n",
       "3       182210.0  402102   2019-01-01           1 2020-10-04 01:30:00  SP   \n",
       "4       182211.0  402126   2019-01-01           1 2020-10-04 01:30:00  PR   \n",
       "...          ...     ...          ...         ...                 ...  ..   \n",
       "331655  266162.0  593489   2019-12-24           1 2020-10-04 16:10:00  MG   \n",
       "331659  266406.0  593903   2019-11-25           7 2020-10-04 07:20:00  PR   \n",
       "331660  266406.0  593902   2019-11-25           7 2020-10-04 07:20:00  PR   \n",
       "331661  266434.0  593948   2019-06-03           7 2020-10-04 19:00:00  CE   \n",
       "331662  266434.0  593947   2019-06-03           7 2020-10-04 19:00:00  CE   \n",
       "\n",
       "           br     km  municipio causa_principal  ...       sexo ilesos  \\\n",
       "0       116.0    218          1             Sim  ...  Masculino      0   \n",
       "1       116.0    218          1             Sim  ...  Masculino      0   \n",
       "2       116.0    218          1             Sim  ...   Feminino      0   \n",
       "3       116.0    218          1             Sim  ...  Masculino      0   \n",
       "4       373.0  177,3          2             Sim  ...  Masculino      0   \n",
       "...       ...    ...        ...             ...  ...        ...    ...   \n",
       "331655  267.0    231        801             Sim  ...  Masculino      0   \n",
       "331659  116.0    125        450             Sim  ...  Masculino      1   \n",
       "331660  116.0    125        450             Sim  ...  Masculino      0   \n",
       "331661  222.0    1,4         95             Sim  ...  Masculino      0   \n",
       "331662  222.0    1,4         95             Sim  ...  Masculino      1   \n",
       "\n",
       "       feridos_leves feridos_graves  mortos      latitude     longitude  \\\n",
       "0                  1              0       0  -23,46052014  -46,48772478   \n",
       "1                  1              0       0  -23,46052014  -46,48772478   \n",
       "2                  1              0       0  -23,46052014  -46,48772478   \n",
       "3                  1              0       0  -23,46052014  -46,48772478   \n",
       "4                  1              0       0  -25,05533957  -50,22776753   \n",
       "...              ...            ...     ...           ...           ...   \n",
       "331655             1              0       0  -21,94947166  -44,33481086   \n",
       "331659             0              0       0  -25,59505309  -49,31630659   \n",
       "331660             1              0       0  -25,59505309  -49,31630659   \n",
       "331661             0              1       0     -3,736507     -38,65337   \n",
       "331662             0              0       0     -3,736507     -38,65337   \n",
       "\n",
       "       regional delegacia       uop  \n",
       "0         SR-SP    DEL6/1  UOP01/SP  \n",
       "1         SR-SP    DEL6/1  UOP01/SP  \n",
       "2         SR-SP    DEL6/1  UOP01/SP  \n",
       "3         SR-SP    DEL6/1  UOP01/SP  \n",
       "4         SR-PR    DEL7/3  UOP01/PR  \n",
       "...         ...       ...       ...  \n",
       "331655    SR-MG      DEL5  UOP03/MG  \n",
       "331659    SR-PR    DEL7/1  UOP03/PR  \n",
       "331660    SR-PR    DEL7/1  UOP03/PR  \n",
       "331661    SR-CE   DEL16/1  UOP01/CE  \n",
       "331662    SR-CE   DEL16/1  UOP01/CE  \n",
       "\n",
       "[265895 rows x 37 columns]"
      ]
     },
     "execution_count": 10,
     "metadata": {},
     "output_type": "execute_result"
    }
   ],
   "source": [
    "df_novo"
   ]
  },
  {
   "cell_type": "code",
   "execution_count": null,
   "metadata": {
    "colab": {
     "base_uri": "https://localhost:8080/",
     "height": 642
    },
    "id": "2yxoxiEX17cA",
    "outputId": "13a87841-9b46-4b67-997f-dc5b9e8d589f"
   },
   "outputs": [],
   "source": [
    "from sklearn.linear_model import LinearRegression\n",
    "from sklearn.datasets import make_regression\n",
    "\n",
    "X = df_novo[['br', 'idade','fase_dia','condicao_metereologica','municipio','dia_semana']]\n",
    "y = df_novo[['feridos_leves','feridos_graves','mortos']]\n",
    "\n",
    "model = LinearRegression()\n",
    "model.fit(X, y)\n",
    "Xnew = []\n",
    "for i in range(165832):\n",
    "    Xnew.append([np.random.choice(df_aux['br'].unique()),\n",
    "                 np.random.choice(df_aux['idade'].unique()),\n",
    "                 np.random.choice(df_aux['fase_dia'].unique()),\n",
    "                 np.random.choice(df_aux['condicao_metereologica'].unique()),\n",
    "                 np.random.choice(df_aux['municipio'].unique()),\n",
    "                 np.random.choice(df_aux['dia_semana'].unique())])\n",
    "Xnew\n",
    "\n",
    "ynew = model.predict(Xnew)\n",
    "\n",
    "plt.figure(figsize=(20,10))\n",
    "plt.plot(ynew,'*-')"
   ]
  },
  {
   "cell_type": "code",
   "execution_count": 34,
   "metadata": {
    "colab": {
     "base_uri": "https://localhost:8080/",
     "height": 50
    },
    "id": "3WhPSceg17cC",
    "outputId": "824cbfc4-edab-405f-d3fe-d9a1c78d174d"
   },
   "outputs": [
    {
     "name": "stdout",
     "output_type": "stream",
     "text": [
      "[0.36293998 0.13847537 0.05957247]\n",
      "0.10963494565279992\n"
     ]
    }
   ],
   "source": [
    "#'feridos_leves','feridos_graves','mortos'\n",
    "medias = np.mean(ynew,axis=0)\n",
    "print(medias)\n",
    "media_pesos = (medias[0] + medias[1]*2.5 + medias[2]*6.5)/10\n",
    "print(media_pesos)\n",
    "# Tratar isso com uma média geral\n",
    "# Os pesos dão mais importância aos casos mais raros"
   ]
  },
  {
   "cell_type": "markdown",
   "metadata": {
    "id": "drQAE6AiegBn"
   },
   "source": [
    "Média das colunas calculado com pesos, variando a quantidade de dados usados na regressão:\n",
    "- 10% dos dados, média 0.10966229998596153\n",
    "- 20% dos dados, média 0.10957985023057777\n",
    "- 30% dos dados, média 0.109767856135995\n",
    "- 40% dos dados, média 0.10964883592210706\n",
    "- 50% dos dados, média 0.10963494565279992"
   ]
  },
  {
   "cell_type": "code",
   "execution_count": 35,
   "metadata": {
    "colab": {
     "base_uri": "https://localhost:8080/",
     "height": 84
    },
    "id": "C9zvuspPKOp4",
    "outputId": "4bac108c-cd0f-4951-c94a-fc8e22271f45"
   },
   "outputs": [
    {
     "name": "stdout",
     "output_type": "stream",
     "text": [
      "Máximo valor de perigo encontrado: 0    0.063388\n",
      "dtype: float64\n",
      "Mínimo valor de perigo encontrado: 0   -0.066477\n",
      "dtype: float64\n"
     ]
    }
   ],
   "source": [
    "# Tabela com todos os perigos dos casos testados\n",
    "tabela_perigos = []\n",
    "for i in range(ynew.shape[0]):\n",
    "  caso = ynew[i]\n",
    "  caso_pesos = (caso[0] + caso[1]*2.5 + caso[2]*6.5)/10\n",
    "  tabela_perigos.append(caso_pesos - media_pesos)\n",
    "tabela_perigos = pd.DataFrame(tabela_perigos)\n",
    "print(f'Máximo valor de perigo encontrado: {tabela_perigos.max()}')\n",
    "print(f'Mínimo valor de perigo encontrado: {tabela_perigos.min()}')"
   ]
  },
  {
   "cell_type": "markdown",
   "metadata": {
    "id": "Z0lYtmaWfA_o"
   },
   "source": [
    "Valores mínimo e máximo de perigo calculado com pesos, variando a quantidade de dados usados na regressão:\n",
    "- 10% dos dados, máximo 0.063791, mínimo -0.06741\n",
    "- 20% dos dados, máximo 0.062835, mínimo -0.066777\n",
    "- 30% dos dados, máximo 0.062642, mínimo -0.066207\n",
    "- 40% dos dados, máximo 0.065109, mínimo -0.067538\n",
    "- 50% dos dados, máximo 0.063388, mínimo -0.066477"
   ]
  },
  {
   "cell_type": "code",
   "execution_count": 36,
   "metadata": {
    "colab": {
     "base_uri": "https://localhost:8080/",
     "height": 67
    },
    "id": "MmvI670w17cF",
    "outputId": "a6157e52-64e3-447f-f5df-7f8cc2fe8534"
   },
   "outputs": [
    {
     "name": "stdout",
     "output_type": "stream",
     "text": [
      "Media de perigo: 0.10963494565279992\n",
      "Caso em questão: 0.1202397086910952\n",
      "Perigo do caso: 0.010604763038295273\n"
     ]
    }
   ],
   "source": [
    "# Teste de caso\n",
    "caso = ynew[101] # Exemplo\n",
    "caso_pesos = (caso[0] + caso[1]*2.5 + caso[2]*6.5)/10\n",
    "perigo_do_caso = caso_pesos - media_pesos\n",
    "print(f'Media de perigo: {media_pesos}')\n",
    "print(f'Caso em questão: {caso_pesos}')\n",
    "print(f'Perigo do caso: {perigo_do_caso}')"
   ]
  },
  {
   "cell_type": "code",
   "execution_count": 37,
   "metadata": {
    "colab": {
     "base_uri": "https://localhost:8080/",
     "height": 33
    },
    "id": "rebJ0AnbNlVm",
    "outputId": "c65ce2c4-bf92-4696-8524-b1b3ec465a69"
   },
   "outputs": [
    {
     "name": "stdout",
     "output_type": "stream",
     "text": [
      "Perigo acima da média\n"
     ]
    }
   ],
   "source": [
    "# Com base no que foi visto anteriormente teremos os ídices\n",
    "# de perigo para cada caso\n",
    "if perigo_do_caso >= 0.035:\n",
    "  print(\"Perigo muito elevado!\")\n",
    "elif perigo_do_caso >= 0.01:\n",
    "  print(\"Perigo acima da média\")\n",
    "elif perigo_do_caso <= -0.035:\n",
    "  print(\"Perigo baixo\")\n",
    "elif perigo_do_caso <= -0.01:\n",
    "  print(\"Perigo abaixo da média\")\n",
    "else:\n",
    "  print(\"Perigo médio\")"
   ]
  },
  {
   "cell_type": "code",
   "execution_count": 38,
   "metadata": {
    "colab": {
     "base_uri": "https://localhost:8080/",
     "height": 50
    },
    "id": "ANFttc23R10s",
    "outputId": "b8afd51c-7597-4abf-e0c8-bc4ee083ca5a"
   },
   "outputs": [
    {
     "data": {
      "text/plain": [
       "array(['terça-feira', 'quarta-feira', 'quinta-feira', 'sexta-feira',\n",
       "       'sábado', 'domingo', 'segunda-feira'], dtype=object)"
      ]
     },
     "execution_count": 38,
     "metadata": {
      "tags": []
     },
     "output_type": "execute_result"
    }
   ],
   "source": [
    "df['dia_semana'].unique()"
   ]
  },
  {
   "cell_type": "code",
   "execution_count": 39,
   "metadata": {
    "colab": {
     "base_uri": "https://localhost:8080/",
     "height": 50
    },
    "id": "lgPy5_eOR9BS",
    "outputId": "a2ed9322-f629-4c42-8f9a-c15cba17e55d"
   },
   "outputs": [
    {
     "data": {
      "text/plain": [
       "array(['GUARULHOS', 'PONTA GROSSA', 'GARUVA', ..., 'FOZ DO JORDAO',\n",
       "       'NOVO CABRAIS', 'CAEM'], dtype=object)"
      ]
     },
     "execution_count": 39,
     "metadata": {
      "tags": []
     },
     "output_type": "execute_result"
    }
   ],
   "source": [
    "df.municipio.unique()"
   ]
  },
  {
   "cell_type": "code",
   "execution_count": 40,
   "metadata": {
    "colab": {
     "base_uri": "https://localhost:8080/",
     "height": 67
    },
    "id": "HnSltNhKSDql",
    "outputId": "501dcd26-2f86-441d-d433-1af929300f3e"
   },
   "outputs": [
    {
     "data": {
      "text/plain": [
       "array(['Céu Claro', 'Nublado', 'Chuva', 'Garoa/Chuvisco', 'Ignorado',\n",
       "       'Nevoeiro/Neblina', 'Vento', 'Sol', 'Granizo', 'Neve'],\n",
       "      dtype=object)"
      ]
     },
     "execution_count": 40,
     "metadata": {
      "tags": []
     },
     "output_type": "execute_result"
    }
   ],
   "source": [
    "df.condicao_metereologica.unique()"
   ]
  },
  {
   "cell_type": "code",
   "execution_count": 41,
   "metadata": {
    "colab": {
     "base_uri": "https://localhost:8080/",
     "height": 33
    },
    "id": "PnzhEsSlSTku",
    "outputId": "c6112b41-e078-4ee5-a982-1089d07b373a"
   },
   "outputs": [
    {
     "data": {
      "text/plain": [
       "array(['Plena Noite', 'Amanhecer', 'Pleno dia', 'Anoitecer'], dtype=object)"
      ]
     },
     "execution_count": 41,
     "metadata": {
      "tags": []
     },
     "output_type": "execute_result"
    }
   ],
   "source": [
    "df['fase_dia'].unique()"
   ]
  },
  {
   "cell_type": "code",
   "execution_count": 42,
   "metadata": {
    "colab": {
     "base_uri": "https://localhost:8080/",
     "height": 67
    },
    "id": "vqJCxfX3PwvS",
    "outputId": "31c5f5ca-2fc8-467d-bbca-e17e7eb6e352"
   },
   "outputs": [
    {
     "name": "stdout",
     "output_type": "stream",
     "text": [
      "Entrada: [267.0, 68, 3, 6, 1402, 6]\n",
      "Saida: [0.30379951 0.14909173 0.08090281]\n",
      "Médias: [0.36293998 0.13847537 0.05957247]\n"
     ]
    }
   ],
   "source": [
    "# 'br', 'idade', 'fase_dia', 'condicao_metereologica', 'municipio', 'dia_semana'\n",
    "print(f'Entrada: {Xnew[101]}')\n",
    "print(f'Saida: {ynew[101]}')\n",
    "print(f'Médias: {medias}')"
   ]
  },
  {
   "cell_type": "code",
   "execution_count": 43,
   "metadata": {
    "colab": {
     "base_uri": "https://localhost:8080/",
     "height": 404
    },
    "id": "a8nN0eRs2exV",
    "outputId": "56d66ba1-407c-40af-c973-86e73fce9739"
   },
   "outputs": [
    {
     "data": {
      "text/html": [
       "<div>\n",
       "<style scoped>\n",
       "    .dataframe tbody tr th:only-of-type {\n",
       "        vertical-align: middle;\n",
       "    }\n",
       "\n",
       "    .dataframe tbody tr th {\n",
       "        vertical-align: top;\n",
       "    }\n",
       "\n",
       "    .dataframe thead th {\n",
       "        text-align: right;\n",
       "    }\n",
       "</style>\n",
       "<table border=\"1\" class=\"dataframe\">\n",
       "  <thead>\n",
       "    <tr style=\"text-align: right;\">\n",
       "      <th></th>\n",
       "      <th>0</th>\n",
       "      <th>1</th>\n",
       "      <th>2</th>\n",
       "    </tr>\n",
       "  </thead>\n",
       "  <tbody>\n",
       "    <tr>\n",
       "      <th>0</th>\n",
       "      <td>0.523722</td>\n",
       "      <td>0.141479</td>\n",
       "      <td>0.025402</td>\n",
       "    </tr>\n",
       "    <tr>\n",
       "      <th>1</th>\n",
       "      <td>0.373369</td>\n",
       "      <td>0.113302</td>\n",
       "      <td>0.040336</td>\n",
       "    </tr>\n",
       "    <tr>\n",
       "      <th>2</th>\n",
       "      <td>0.319020</td>\n",
       "      <td>0.102197</td>\n",
       "      <td>0.041065</td>\n",
       "    </tr>\n",
       "    <tr>\n",
       "      <th>3</th>\n",
       "      <td>0.242559</td>\n",
       "      <td>0.071102</td>\n",
       "      <td>0.027581</td>\n",
       "    </tr>\n",
       "    <tr>\n",
       "      <th>4</th>\n",
       "      <td>0.480043</td>\n",
       "      <td>0.138980</td>\n",
       "      <td>0.037730</td>\n",
       "    </tr>\n",
       "    <tr>\n",
       "      <th>...</th>\n",
       "      <td>...</td>\n",
       "      <td>...</td>\n",
       "      <td>...</td>\n",
       "    </tr>\n",
       "    <tr>\n",
       "      <th>165827</th>\n",
       "      <td>0.328482</td>\n",
       "      <td>0.106873</td>\n",
       "      <td>0.050654</td>\n",
       "    </tr>\n",
       "    <tr>\n",
       "      <th>165828</th>\n",
       "      <td>0.315083</td>\n",
       "      <td>0.139721</td>\n",
       "      <td>0.067494</td>\n",
       "    </tr>\n",
       "    <tr>\n",
       "      <th>165829</th>\n",
       "      <td>0.326672</td>\n",
       "      <td>0.167635</td>\n",
       "      <td>0.098154</td>\n",
       "    </tr>\n",
       "    <tr>\n",
       "      <th>165830</th>\n",
       "      <td>0.511982</td>\n",
       "      <td>0.135229</td>\n",
       "      <td>0.018868</td>\n",
       "    </tr>\n",
       "    <tr>\n",
       "      <th>165831</th>\n",
       "      <td>0.375835</td>\n",
       "      <td>0.172238</td>\n",
       "      <td>0.094264</td>\n",
       "    </tr>\n",
       "  </tbody>\n",
       "</table>\n",
       "<p>165832 rows × 3 columns</p>\n",
       "</div>"
      ],
      "text/plain": [
       "               0         1         2\n",
       "0       0.523722  0.141479  0.025402\n",
       "1       0.373369  0.113302  0.040336\n",
       "2       0.319020  0.102197  0.041065\n",
       "3       0.242559  0.071102  0.027581\n",
       "4       0.480043  0.138980  0.037730\n",
       "...          ...       ...       ...\n",
       "165827  0.328482  0.106873  0.050654\n",
       "165828  0.315083  0.139721  0.067494\n",
       "165829  0.326672  0.167635  0.098154\n",
       "165830  0.511982  0.135229  0.018868\n",
       "165831  0.375835  0.172238  0.094264\n",
       "\n",
       "[165832 rows x 3 columns]"
      ]
     },
     "execution_count": 43,
     "metadata": {
      "tags": []
     },
     "output_type": "execute_result"
    }
   ],
   "source": [
    "pd.DataFrame(ynew)"
   ]
  },
  {
   "cell_type": "code",
   "execution_count": 44,
   "metadata": {
    "colab": {
     "base_uri": "https://localhost:8080/",
     "height": 107
    },
    "id": "kkPUPr7hBoLz",
    "outputId": "407ae93f-c83d-4804-b049-ad3a17f88549"
   },
   "outputs": [
    {
     "data": {
      "text/html": [
       "<div>\n",
       "<style scoped>\n",
       "    .dataframe tbody tr th:only-of-type {\n",
       "        vertical-align: middle;\n",
       "    }\n",
       "\n",
       "    .dataframe tbody tr th {\n",
       "        vertical-align: top;\n",
       "    }\n",
       "\n",
       "    .dataframe thead th {\n",
       "        text-align: right;\n",
       "    }\n",
       "</style>\n",
       "<table border=\"1\" class=\"dataframe\">\n",
       "  <thead>\n",
       "    <tr style=\"text-align: right;\">\n",
       "      <th></th>\n",
       "      <th>Qtd.</th>\n",
       "      <th>Percentual</th>\n",
       "    </tr>\n",
       "  </thead>\n",
       "  <tbody>\n",
       "    <tr>\n",
       "      <th>0</th>\n",
       "      <td>221261</td>\n",
       "      <td>66.712</td>\n",
       "    </tr>\n",
       "    <tr>\n",
       "      <th>1</th>\n",
       "      <td>110405</td>\n",
       "      <td>33.288</td>\n",
       "    </tr>\n",
       "  </tbody>\n",
       "</table>\n",
       "</div>"
      ],
      "text/plain": [
       "     Qtd.  Percentual\n",
       "0  221261      66.712\n",
       "1  110405      33.288"
      ]
     },
     "execution_count": 44,
     "metadata": {
      "tags": []
     },
     "output_type": "execute_result"
    }
   ],
   "source": [
    "freq(df.feridos_leves, plot=True)"
   ]
  },
  {
   "cell_type": "code",
   "execution_count": 45,
   "metadata": {
    "colab": {
     "base_uri": "https://localhost:8080/",
     "height": 107
    },
    "id": "Zc7HovAaBt95",
    "outputId": "db95ab6a-6bcb-40ca-b256-e4dfbf305902"
   },
   "outputs": [
    {
     "data": {
      "text/html": [
       "<div>\n",
       "<style scoped>\n",
       "    .dataframe tbody tr th:only-of-type {\n",
       "        vertical-align: middle;\n",
       "    }\n",
       "\n",
       "    .dataframe tbody tr th {\n",
       "        vertical-align: top;\n",
       "    }\n",
       "\n",
       "    .dataframe thead th {\n",
       "        text-align: right;\n",
       "    }\n",
       "</style>\n",
       "<table border=\"1\" class=\"dataframe\">\n",
       "  <thead>\n",
       "    <tr style=\"text-align: right;\">\n",
       "      <th></th>\n",
       "      <th>Qtd.</th>\n",
       "      <th>Percentual</th>\n",
       "    </tr>\n",
       "  </thead>\n",
       "  <tbody>\n",
       "    <tr>\n",
       "      <th>0</th>\n",
       "      <td>295283</td>\n",
       "      <td>89.03</td>\n",
       "    </tr>\n",
       "    <tr>\n",
       "      <th>1</th>\n",
       "      <td>36383</td>\n",
       "      <td>10.97</td>\n",
       "    </tr>\n",
       "  </tbody>\n",
       "</table>\n",
       "</div>"
      ],
      "text/plain": [
       "     Qtd.  Percentual\n",
       "0  295283       89.03\n",
       "1   36383       10.97"
      ]
     },
     "execution_count": 45,
     "metadata": {
      "tags": []
     },
     "output_type": "execute_result"
    }
   ],
   "source": [
    "freq(df.feridos_graves, plot=True)"
   ]
  },
  {
   "cell_type": "code",
   "execution_count": 46,
   "metadata": {
    "colab": {
     "base_uri": "https://localhost:8080/",
     "height": 107
    },
    "id": "_hxGweEUB27R",
    "outputId": "b9f705dd-b84f-47b5-cc21-8dbb7cfae729"
   },
   "outputs": [
    {
     "data": {
      "text/html": [
       "<div>\n",
       "<style scoped>\n",
       "    .dataframe tbody tr th:only-of-type {\n",
       "        vertical-align: middle;\n",
       "    }\n",
       "\n",
       "    .dataframe tbody tr th {\n",
       "        vertical-align: top;\n",
       "    }\n",
       "\n",
       "    .dataframe thead th {\n",
       "        text-align: right;\n",
       "    }\n",
       "</style>\n",
       "<table border=\"1\" class=\"dataframe\">\n",
       "  <thead>\n",
       "    <tr style=\"text-align: right;\">\n",
       "      <th></th>\n",
       "      <th>Qtd.</th>\n",
       "      <th>Percentual</th>\n",
       "    </tr>\n",
       "  </thead>\n",
       "  <tbody>\n",
       "    <tr>\n",
       "      <th>0</th>\n",
       "      <td>319003</td>\n",
       "      <td>96.182</td>\n",
       "    </tr>\n",
       "    <tr>\n",
       "      <th>1</th>\n",
       "      <td>12663</td>\n",
       "      <td>3.818</td>\n",
       "    </tr>\n",
       "  </tbody>\n",
       "</table>\n",
       "</div>"
      ],
      "text/plain": [
       "     Qtd.  Percentual\n",
       "0  319003      96.182\n",
       "1   12663       3.818"
      ]
     },
     "execution_count": 46,
     "metadata": {
      "tags": []
     },
     "output_type": "execute_result"
    }
   ],
   "source": [
    "freq(df.mortos, plot=True)"
   ]
  },
  {
   "cell_type": "markdown",
   "metadata": {
    "id": "_I9e2VNL17cI"
   },
   "source": [
    "# 2- Árvode de descisão\n",
    "\n",
    "Link permutation importance sklearn: https://scikit-learn.org/stable/modules/permutation_importance.html\n",
    "\n",
    "\n",
    "Link Decision Tree Regression sklearn: https://scikit-learn.org/stable/modules/generated/sklearn.tree.DecisionTreeRegressor.html#sklearn.tree.DecisionTreeRegressor"
   ]
  },
  {
   "cell_type": "code",
   "execution_count": 15,
   "metadata": {},
   "outputs": [],
   "source": [
    "def find_best_params(X,y):\n",
    "    espaco_de_parametros = {\n",
    "                            \"criterion\"        : [\"mse\"],\n",
    "                            \"splitter\"         : [\"best\",\"random\"],\n",
    "                            \"max_depth\"        : [10,50,100,150],\n",
    "                            \"min_samples_split\": [1,2,3],\n",
    "                            \"min_samples_leaf\" : [1,2,3]\n",
    "                           }\n",
    "\n",
    "    modelos = GridSearchCV(DecisionTreeRegressor(),\n",
    "                           espaco_de_parametros,\n",
    "                           cv=KFold(n_splits=10,shuffle=True))\n",
    "    modelos.fit(X,y)\n",
    "    \n",
    "    print('-------Best escore-------')\n",
    "    print(f'>>>> {modelos.best_score_}')\n",
    "    \n",
    "    print('\\n-------Best Params-------\\n')\n",
    "    print(f'{modelos.best_params_}')\n",
    "    return modelos.best_params_\n",
    "    \n",
    "    \n",
    "def Extract_feature_importance(best_params,X,y):\n",
    "    modelo      = DecisionTreeRegressor(criterion=best_params['criterion'],\n",
    "                                        max_depth=best_params['max_depth'],\n",
    "                                        min_samples_leaf=best_params['min_samples_leaf'],\n",
    "                                        min_samples_split=best_params['min_samples_split'],\n",
    "                                        splitter=best_params['splitter'],\n",
    "                                        random_state=42)\n",
    "    modelo.fit(X_amostral,y_amostral)\n",
    "    \n",
    "    # Feature Importance\n",
    "    r = permutation_importance(modelo,X,y,\n",
    "                                n_repeats=30,\n",
    "                                random_state=0)\n",
    "    print('\\n-------Feature importance-------\\n')\n",
    "    for i in r.importances_mean.argsort()[::-1]:\n",
    "         if r.importances_mean[i] - 2 * r.importances_std[i] > 0:\n",
    "                print(f\">>>>>>{X.columns[i]:<8} [{r.importances_mean[i]:.3f} +/- {r.importances_std[i]:.3f}]\\n\")\n",
    "                      \n",
    "            "
   ]
  },
  {
   "cell_type": "code",
   "execution_count": 18,
   "metadata": {
    "id": "HN95KmFfW9uu",
    "scrolled": false
   },
   "outputs": [
    {
     "name": "stdout",
     "output_type": "stream",
     "text": [
      "--------------1000 amostras para teste--------------\n",
      "\n",
      "-------Best escore-------\n",
      ">>>> 0.5827582786584655\n",
      "\n",
      "-------Best Params-------\n",
      "\n",
      "{'criterion': 'mse', 'max_depth': 150, 'min_samples_leaf': 1, 'min_samples_split': 2, 'splitter': 'random'}\n",
      "\n",
      "-------Feature importance-------\n",
      "\n",
      ">>>>>>condicao_metereologica [0.014 +/- 0.001]\n",
      "\n",
      ">>>>>>br       [0.010 +/- 0.001]\n",
      "\n",
      ">>>>>>fase_dia [0.006 +/- 0.001]\n",
      "\n",
      ">>>>>>idade    [0.005 +/- 0.001]\n",
      "\n",
      ">>>>>>dia_semana [0.003 +/- 0.001]\n",
      "\n",
      "--------------5000 amostras para teste--------------\n",
      "\n",
      "-------Best escore-------\n",
      ">>>> 0.4781261300535882\n",
      "\n",
      "-------Best Params-------\n",
      "\n",
      "{'criterion': 'mse', 'max_depth': 50, 'min_samples_leaf': 1, 'min_samples_split': 2, 'splitter': 'random'}\n",
      "\n",
      "-------Feature importance-------\n",
      "\n",
      ">>>>>>idade    [0.067 +/- 0.004]\n",
      "\n",
      ">>>>>>dia_semana [0.036 +/- 0.002]\n",
      "\n",
      ">>>>>>br       [0.029 +/- 0.004]\n",
      "\n",
      ">>>>>>fase_dia [0.020 +/- 0.002]\n",
      "\n",
      ">>>>>>municipio [0.019 +/- 0.003]\n",
      "\n",
      ">>>>>>condicao_metereologica [0.017 +/- 0.003]\n",
      "\n",
      "--------------10000 amostras para teste--------------\n",
      "\n",
      "-------Best escore-------\n",
      ">>>> 0.4314686982888233\n",
      "\n",
      "-------Best Params-------\n",
      "\n",
      "{'criterion': 'mse', 'max_depth': 100, 'min_samples_leaf': 1, 'min_samples_split': 2, 'splitter': 'random'}\n",
      "\n",
      "-------Feature importance-------\n",
      "\n",
      ">>>>>>idade    [0.065 +/- 0.002]\n",
      "\n",
      ">>>>>>municipio [0.041 +/- 0.003]\n",
      "\n",
      ">>>>>>fase_dia [0.038 +/- 0.003]\n",
      "\n",
      ">>>>>>dia_semana [0.038 +/- 0.003]\n",
      "\n",
      ">>>>>>condicao_metereologica [0.036 +/- 0.003]\n",
      "\n",
      ">>>>>>br       [0.024 +/- 0.002]\n",
      "\n",
      "--------------50000 amostras para teste--------------\n",
      "\n",
      "-------Best escore-------\n",
      ">>>> 0.38162890957111717\n",
      "\n",
      "-------Best Params-------\n",
      "\n",
      "{'criterion': 'mse', 'max_depth': 100, 'min_samples_leaf': 1, 'min_samples_split': 2, 'splitter': 'random'}\n",
      "\n",
      "-------Feature importance-------\n",
      "\n",
      ">>>>>>idade    [0.310 +/- 0.003]\n",
      "\n",
      ">>>>>>municipio [0.289 +/- 0.003]\n",
      "\n",
      ">>>>>>br       [0.256 +/- 0.003]\n",
      "\n",
      ">>>>>>dia_semana [0.229 +/- 0.002]\n",
      "\n",
      ">>>>>>fase_dia [0.201 +/- 0.002]\n",
      "\n",
      ">>>>>>condicao_metereologica [0.201 +/- 0.003]\n",
      "\n",
      "--------------Todas as amostras para teste--------------\n",
      "\n",
      "-------Best escore-------\n",
      ">>>> 0.3718829511430127\n",
      "\n",
      "-------Best Params-------\n",
      "\n",
      "{'criterion': 'mse', 'max_depth': 100, 'min_samples_leaf': 1, 'min_samples_split': 2, 'splitter': 'random'}\n",
      "\n",
      "-------Feature importance-------\n",
      "\n",
      ">>>>>>municipio [1.761 +/- 0.003]\n",
      "\n",
      ">>>>>>idade    [1.675 +/- 0.003]\n",
      "\n",
      ">>>>>>br       [1.406 +/- 0.003]\n",
      "\n",
      ">>>>>>dia_semana [1.340 +/- 0.003]\n",
      "\n",
      ">>>>>>fase_dia [1.063 +/- 0.002]\n",
      "\n",
      ">>>>>>condicao_metereologica [0.986 +/- 0.003]\n",
      "\n"
     ]
    }
   ],
   "source": [
    "X = df_novo[['br', 'idade','fase_dia','condicao_metereologica','municipio','dia_semana']]\n",
    "y = df_novo[['feridos_leves','feridos_graves','mortos']]    \n",
    "\n",
    "print('--------------1000 amostras para teste--------------\\n')\n",
    "X_amostral = X.iloc[0:1000]\n",
    "y_amostral = y.iloc[0:1000]\n",
    "\n",
    "best_params = find_best_params(X_amostral,y_amostral)\n",
    "Extract_feature_importance(best_params,X,y)\n",
    "\n",
    "print('--------------5000 amostras para teste--------------\\n')\n",
    "X_amostral = X.iloc[0:5000]\n",
    "y_amostral = y.iloc[0:5000]\n",
    "\n",
    "best_params = find_best_params(X_amostral,y_amostral)\n",
    "Extract_feature_importance(best_params,X,y)\n",
    "\n",
    "print('--------------10000 amostras para teste--------------\\n')\n",
    "X_amostral = X.iloc[0:10000]\n",
    "y_amostral = y.iloc[0:10000]\n",
    "\n",
    "best_params = find_best_params(X_amostral,y_amostral)\n",
    "Extract_feature_importance(best_params,X,y)\n",
    "\n",
    "\n",
    "print('--------------50000 amostras para teste--------------\\n')\n",
    "X_amostral = X.iloc[0:50000]\n",
    "y_amostral = y.iloc[0:50000]\n",
    "\n",
    "best_params = find_best_params(X_amostral,y_amostral)\n",
    "Extract_feature_importance(best_params,X,y)\n",
    "\n",
    "\n",
    "print('--------------Todas as amostras para teste--------------\\n')\n",
    "X_amostral = X\n",
    "y_amostral = y\n",
    "\n",
    "best_params = find_best_params(X_amostral,y_amostral)\n",
    "Extract_feature_importance(best_params,X,y)"
   ]
  },
  {
   "cell_type": "code",
   "execution_count": null,
   "metadata": {
    "id": "wQpo2hebW9u1"
   },
   "outputs": [],
   "source": []
  },
  {
   "cell_type": "code",
   "execution_count": null,
   "metadata": {
    "id": "wQpo2hebW9u1"
   },
   "outputs": [],
   "source": []
  },
  {
   "cell_type": "code",
   "execution_count": null,
   "metadata": {
    "id": "wQpo2hebW9u1"
   },
   "outputs": [],
   "source": []
  },
  {
   "cell_type": "code",
   "execution_count": null,
   "metadata": {
    "id": "wQpo2hebW9u1"
   },
   "outputs": [],
   "source": []
  },
  {
   "cell_type": "code",
   "execution_count": null,
   "metadata": {
    "id": "wQpo2hebW9u1"
   },
   "outputs": [],
   "source": []
  },
  {
   "cell_type": "code",
   "execution_count": null,
   "metadata": {
    "id": "wQpo2hebW9u1"
   },
   "outputs": [],
   "source": []
  },
  {
   "cell_type": "code",
   "execution_count": null,
   "metadata": {
    "id": "wQpo2hebW9u1"
   },
   "outputs": [],
   "source": []
  },
  {
   "cell_type": "code",
   "execution_count": null,
   "metadata": {
    "id": "wQpo2hebW9u1"
   },
   "outputs": [],
   "source": []
  },
  {
   "cell_type": "code",
   "execution_count": null,
   "metadata": {
    "id": "wQpo2hebW9u1"
   },
   "outputs": [],
   "source": []
  },
  {
   "cell_type": "code",
   "execution_count": null,
   "metadata": {
    "id": "wQpo2hebW9u1"
   },
   "outputs": [],
   "source": []
  },
  {
   "cell_type": "code",
   "execution_count": null,
   "metadata": {
    "id": "dy4fpi0MW9u5"
   },
   "outputs": [],
   "source": []
  },
  {
   "cell_type": "code",
   "execution_count": null,
   "metadata": {
    "id": "jcuY4gtCW9u7"
   },
   "outputs": [],
   "source": []
  },
  {
   "cell_type": "code",
   "execution_count": null,
   "metadata": {
    "id": "1Pw18iuAW9u-"
   },
   "outputs": [],
   "source": []
  }
 ],
 "metadata": {
  "colab": {
   "collapsed_sections": [],
   "name": "DS_FinalProject.ipynb",
   "provenance": []
  },
  "kernelspec": {
   "display_name": "Python 3",
   "language": "python",
   "name": "python3"
  },
  "language_info": {
   "codemirror_mode": {
    "name": "ipython",
    "version": 3
   },
   "file_extension": ".py",
   "mimetype": "text/x-python",
   "name": "python",
   "nbconvert_exporter": "python",
   "pygments_lexer": "ipython3",
   "version": "3.8.3"
  }
 },
 "nbformat": 4,
 "nbformat_minor": 1
}
